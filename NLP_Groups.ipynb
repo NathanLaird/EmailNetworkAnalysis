{
 "cells": [
  {
   "cell_type": "code",
   "execution_count": 1,
   "metadata": {},
   "outputs": [],
   "source": [
    "import mysql.connector\n",
    "import pandas as pd\n",
    "import numpy as np\n",
    "import matplotlib.pyplot as plt\n",
    "from matplotlib.animation import FuncAnimation\n",
    "import sys\n",
    "from IPython.display import HTML\n",
    "from matplotlib import pyplot as plt\n",
    "from celluloid import Camera\n",
    "import plotly.graph_objects as go\n",
    "\n",
    "import networkx as nx\n",
    "\n",
    "from IPython.display import HTML\n",
    "from matplotlib import pyplot as plt\n",
    "from celluloid import Camera\n",
    "import collections\n",
    "\n",
    "\n",
    "import gensim\n",
    "from gensim.utils import simple_preprocess\n",
    "from gensim.parsing.preprocessing import STOPWORDS\n",
    "from nltk.stem import WordNetLemmatizer, SnowballStemmer\n",
    "from nltk.stem.porter import *\n",
    "import numpy as np\n",
    "np.random.seed(2018)\n",
    "import nltk\n",
    "import ast"
   ]
  },
  {
   "cell_type": "code",
   "execution_count": 2,
   "metadata": {},
   "outputs": [],
   "source": [
    "emails_df = pd.read_csv('Data/emails_tokenized.csv')\n",
    "employee_df = pd.read_csv('Data/employees.csv')\n",
    "network_df = pd.read_csv('Data/network.csv')"
   ]
  },
  {
   "cell_type": "code",
   "execution_count": 3,
   "metadata": {},
   "outputs": [],
   "source": [
    "emails_df = emails_df[~emails_df['token_subject'].isna()]\n",
    "\n",
    "exec_list = ['CEO','President','Vice President']\n",
    "\n",
    "job_count = collections.Counter()\n",
    "for rank in emails_df['sender_level']:\n",
    "    job_count[rank] +=1\n",
    "\n",
    "job_count"
   ]
  },
  {
   "cell_type": "code",
   "execution_count": 6,
   "metadata": {},
   "outputs": [],
   "source": [
    "stems = ['fw','draft','p','2001']\n",
    "\n",
    "emails_df['token_subject']= [ast.literal_eval(x) for x in emails_df['token_subject']]\n",
    "subjects = []\n",
    "for email in emails_df['token_subject']:\n",
    "    for stem in stems:\n",
    "        while stem in email:\n",
    "            email.remove(stem)\n",
    "    subjects.append(email)\n",
    "emails_df['token_subject'] = subjects"
   ]
  },
  {
   "cell_type": "code",
   "execution_count": 32,
   "metadata": {},
   "outputs": [
    {
     "data": {
      "text/html": [
       "<div>\n",
       "<style scoped>\n",
       "    .dataframe tbody tr th:only-of-type {\n",
       "        vertical-align: middle;\n",
       "    }\n",
       "\n",
       "    .dataframe tbody tr th {\n",
       "        vertical-align: top;\n",
       "    }\n",
       "\n",
       "    .dataframe thead th {\n",
       "        text-align: right;\n",
       "    }\n",
       "</style>\n",
       "<table border=\"1\" class=\"dataframe\">\n",
       "  <thead>\n",
       "    <tr style=\"text-align: right;\">\n",
       "      <th></th>\n",
       "      <th>Unnamed: 0</th>\n",
       "      <th>mid</th>\n",
       "      <th>sender</th>\n",
       "      <th>date</th>\n",
       "      <th>message_id</th>\n",
       "      <th>subject</th>\n",
       "      <th>body</th>\n",
       "      <th>folder</th>\n",
       "      <th>cleaned_body</th>\n",
       "      <th>cleaned_subject</th>\n",
       "      <th>sender_level</th>\n",
       "      <th>token_body</th>\n",
       "      <th>token_subject</th>\n",
       "    </tr>\n",
       "  </thead>\n",
       "  <tbody>\n",
       "    <tr>\n",
       "      <th>0</th>\n",
       "      <td>24</td>\n",
       "      <td>76</td>\n",
       "      <td>mary.hain@enron.com</td>\n",
       "      <td>2000-08-17 07:11:00</td>\n",
       "      <td>&lt;5722839.1075863606028.JavaMail.evans@thyme&gt;</td>\n",
       "      <td>Enron s transmission/power exchange model for ...</td>\n",
       "      <td>---------------------- Forwarded by Mary Hain/...</td>\n",
       "      <td>Robert_Badeer_Aug2000Notes FoldersNotes inbox</td>\n",
       "      <td>enron s transmission/power exchange model for...</td>\n",
       "      <td>enron s transmission/power exchange model for ...</td>\n",
       "      <td>NaN</td>\n",
       "      <td>[[[enron, transmission/power, exchange, model,...</td>\n",
       "      <td>[enron, transmission/power, exchange, model, d...</td>\n",
       "    </tr>\n",
       "    <tr>\n",
       "      <th>1</th>\n",
       "      <td>41</td>\n",
       "      <td>93</td>\n",
       "      <td>cooper.richey@enron.com</td>\n",
       "      <td>2000-08-23 04:39:00</td>\n",
       "      <td>&lt;4083763.1075863605647.JavaMail.evans@thyme&gt;</td>\n",
       "      <td>Change to EnData</td>\n",
       "      <td>The Fundamentals Group is moving Database serv...</td>\n",
       "      <td>Robert_Badeer_Aug2000Notes FoldersNotes inbox</td>\n",
       "      <td>the fundamentals group is moving database serv...</td>\n",
       "      <td>change to endata</td>\n",
       "      <td>Manager</td>\n",
       "      <td>[[[fundamentals, group, moving, database, serv...</td>\n",
       "      <td>[change, endata]</td>\n",
       "    </tr>\n",
       "    <tr>\n",
       "      <th>2</th>\n",
       "      <td>107</td>\n",
       "      <td>159</td>\n",
       "      <td>mary.hain@enron.com</td>\n",
       "      <td>2000-08-29 06:28:00</td>\n",
       "      <td>&lt;14457348.1075863603979.JavaMail.evans@thyme&gt;</td>\n",
       "      <td>ISO To Participate in Super Peak Market</td>\n",
       "      <td>FYI---------------------- Forwarded by Mary Ha...</td>\n",
       "      <td>Robert_Badeer_Aug2000Notes FoldersNotes inbox</td>\n",
       "      <td>iso to participate in super peak marketfolks,...</td>\n",
       "      <td>iso to participate in super peak  et</td>\n",
       "      <td>NaN</td>\n",
       "      <td>[[[iso, participate, super, peak, marketfolks,...</td>\n",
       "      <td>[iso, participate, super, peak, et]</td>\n",
       "    </tr>\n",
       "    <tr>\n",
       "      <th>3</th>\n",
       "      <td>137</td>\n",
       "      <td>465</td>\n",
       "      <td>jeff.dasovich@enron.com</td>\n",
       "      <td>2000-08-07 12:23:00</td>\n",
       "      <td>&lt;769016.1075863596202.JavaMail.evans@thyme&gt;</td>\n",
       "      <td>CalPX Market Compliance Unit Submits its 2nd A...</td>\n",
       "      <td>FYI.  The report posted on the website fails t...</td>\n",
       "      <td>Robert_Badeer_Aug2000Notes FoldersCapx</td>\n",
       "      <td>calpx market compliance unit submits its 2nd ...</td>\n",
       "      <td>calpx  et compliance unit submits its 2nd annu...</td>\n",
       "      <td>Employee</td>\n",
       "      <td>[[[calpx, market, compliance, unit, submits, 2...</td>\n",
       "      <td>[calpx, et, compliance, unit, submits, 2nd, an...</td>\n",
       "    </tr>\n",
       "    <tr>\n",
       "      <th>4</th>\n",
       "      <td>189</td>\n",
       "      <td>517</td>\n",
       "      <td>jeff.dasovich@enron.com</td>\n",
       "      <td>2000-08-10 03:12:00</td>\n",
       "      <td>&lt;28494229.1075863594884.JavaMail.evans@thyme&gt;</td>\n",
       "      <td>Re: Governor s Press Conference -- Shot Across...</td>\n",
       "      <td>There appears to be a pattern forming.  The ad...</td>\n",
       "      <td>Robert_Badeer_Aug2000Notes FoldersCalifornia</td>\n",
       "      <td>governor s press conference -- shot across th...</td>\n",
       "      <td>re: governor s press conference -- shot across...</td>\n",
       "      <td>Employee</td>\n",
       "      <td>[[[governor, press, conference, --, shot, acro...</td>\n",
       "      <td>[governor, press, conference, --, shot, across...</td>\n",
       "    </tr>\n",
       "  </tbody>\n",
       "</table>\n",
       "</div>"
      ],
      "text/plain": [
       "  Unnamed: 0  mid                   sender                 date  \\\n",
       "0         24   76      mary.hain@enron.com  2000-08-17 07:11:00   \n",
       "1         41   93  cooper.richey@enron.com  2000-08-23 04:39:00   \n",
       "2        107  159      mary.hain@enron.com  2000-08-29 06:28:00   \n",
       "3        137  465  jeff.dasovich@enron.com  2000-08-07 12:23:00   \n",
       "4        189  517  jeff.dasovich@enron.com  2000-08-10 03:12:00   \n",
       "\n",
       "                                      message_id  \\\n",
       "0   <5722839.1075863606028.JavaMail.evans@thyme>   \n",
       "1   <4083763.1075863605647.JavaMail.evans@thyme>   \n",
       "2  <14457348.1075863603979.JavaMail.evans@thyme>   \n",
       "3    <769016.1075863596202.JavaMail.evans@thyme>   \n",
       "4  <28494229.1075863594884.JavaMail.evans@thyme>   \n",
       "\n",
       "                                             subject  \\\n",
       "0  Enron s transmission/power exchange model for ...   \n",
       "1                                   Change to EnData   \n",
       "2            ISO To Participate in Super Peak Market   \n",
       "3  CalPX Market Compliance Unit Submits its 2nd A...   \n",
       "4  Re: Governor s Press Conference -- Shot Across...   \n",
       "\n",
       "                                                body  \\\n",
       "0  ---------------------- Forwarded by Mary Hain/...   \n",
       "1  The Fundamentals Group is moving Database serv...   \n",
       "2  FYI---------------------- Forwarded by Mary Ha...   \n",
       "3  FYI.  The report posted on the website fails t...   \n",
       "4  There appears to be a pattern forming.  The ad...   \n",
       "\n",
       "                                          folder  \\\n",
       "0  Robert_Badeer_Aug2000Notes FoldersNotes inbox   \n",
       "1  Robert_Badeer_Aug2000Notes FoldersNotes inbox   \n",
       "2  Robert_Badeer_Aug2000Notes FoldersNotes inbox   \n",
       "3         Robert_Badeer_Aug2000Notes FoldersCapx   \n",
       "4   Robert_Badeer_Aug2000Notes FoldersCalifornia   \n",
       "\n",
       "                                        cleaned_body  \\\n",
       "0   enron s transmission/power exchange model for...   \n",
       "1  the fundamentals group is moving database serv...   \n",
       "2   iso to participate in super peak marketfolks,...   \n",
       "3   calpx market compliance unit submits its 2nd ...   \n",
       "4   governor s press conference -- shot across th...   \n",
       "\n",
       "                                     cleaned_subject sender_level  \\\n",
       "0  enron s transmission/power exchange model for ...          NaN   \n",
       "1                                   change to endata      Manager   \n",
       "2               iso to participate in super peak  et          NaN   \n",
       "3  calpx  et compliance unit submits its 2nd annu...     Employee   \n",
       "4  re: governor s press conference -- shot across...     Employee   \n",
       "\n",
       "                                          token_body  \\\n",
       "0  [[[enron, transmission/power, exchange, model,...   \n",
       "1  [[[fundamentals, group, moving, database, serv...   \n",
       "2  [[[iso, participate, super, peak, marketfolks,...   \n",
       "3  [[[calpx, market, compliance, unit, submits, 2...   \n",
       "4  [[[governor, press, conference, --, shot, acro...   \n",
       "\n",
       "                                       token_subject  \n",
       "0  [enron, transmission/power, exchange, model, d...  \n",
       "1                                   [change, endata]  \n",
       "2                [iso, participate, super, peak, et]  \n",
       "3  [calpx, et, compliance, unit, submits, 2nd, an...  \n",
       "4  [governor, press, conference, --, shot, across...  "
      ]
     },
     "execution_count": 32,
     "metadata": {},
     "output_type": "execute_result"
    }
   ],
   "source": [
    "emails_df.head()"
   ]
  },
  {
   "cell_type": "code",
   "execution_count": 8,
   "metadata": {},
   "outputs": [],
   "source": [
    "emails_df['token_body']= [ast.literal_eval(x) for x in emails_df['token_body']]\n",
    "subjects = []\n",
    "for email in emails_df['token_body']:\n",
    "    sents = []\n",
    "    for sent in email:\n",
    "        for stem in stems:\n",
    "            while stem in sent:\n",
    "                sent.remove(stem)\n",
    "        sents.append(email)\n",
    "    subjects.append(sents)\n",
    "emails_df['token_body'] = subjects"
   ]
  },
  {
   "cell_type": "code",
   "execution_count": null,
   "metadata": {},
   "outputs": [],
   "source": []
  },
  {
   "cell_type": "code",
   "execution_count": 9,
   "metadata": {},
   "outputs": [],
   "source": [
    "subject_tokens = list(emails_df['token_subject']) "
   ]
  },
  {
   "cell_type": "code",
   "execution_count": 10,
   "metadata": {},
   "outputs": [],
   "source": [
    "q"
   ]
  },
  {
   "cell_type": "code",
   "execution_count": 11,
   "metadata": {},
   "outputs": [],
   "source": [
    "dictionary = gensim.corpora.Dictionary(subject_tokens)"
   ]
  },
  {
   "cell_type": "code",
   "execution_count": 12,
   "metadata": {},
   "outputs": [
    {
     "name": "stdout",
     "output_type": "stream",
     "text": [
      "0 discussion\n",
      "1 enron\n",
      "2 exchange\n",
      "3 model\n",
      "4 transmission/power\n",
      "5 change\n",
      "6 endata\n",
      "7 et\n",
      "8 iso\n",
      "9 participate\n",
      "10 peak\n"
     ]
    }
   ],
   "source": [
    "count = 0\n",
    "for k, v in dictionary.iteritems():\n",
    "    print(k, v)\n",
    "    count += 1\n",
    "    if count > 10:\n",
    "        break"
   ]
  },
  {
   "cell_type": "code",
   "execution_count": 13,
   "metadata": {},
   "outputs": [],
   "source": [
    "dictionary.filter_extremes(no_below=15, no_above=0.5, keep_n=100000)"
   ]
  },
  {
   "cell_type": "code",
   "execution_count": 14,
   "metadata": {},
   "outputs": [
    {
     "data": {
      "text/plain": [
       "[(421, 1), (474, 1), (820, 1)]"
      ]
     },
     "execution_count": 14,
     "metadata": {},
     "output_type": "execute_result"
    }
   ],
   "source": [
    "bow_corpus = [dictionary.doc2bow(doc) for doc in subject_tokens]\n",
    "bow_corpus[4310]"
   ]
  },
  {
   "cell_type": "code",
   "execution_count": 15,
   "metadata": {},
   "outputs": [
    {
     "name": "stdout",
     "output_type": "stream",
     "text": [
      "[(0, 0.5546227871296954),\n",
      " (1, 0.3020901308523857),\n",
      " (2, 0.5623506333794593),\n",
      " (3, 0.5337573249856136)]\n"
     ]
    }
   ],
   "source": [
    "from gensim import corpora, models\n",
    "tfidf = models.TfidfModel(bow_corpus)\n",
    "corpus_tfidf = tfidf[bow_corpus]\n",
    "from pprint import pprint\n",
    "for doc in corpus_tfidf:\n",
    "    pprint(doc)\n",
    "    break"
   ]
  },
  {
   "cell_type": "code",
   "execution_count": 16,
   "metadata": {},
   "outputs": [],
   "source": [
    "topic_num = 5\n",
    "show_feature = 7"
   ]
  },
  {
   "cell_type": "code",
   "execution_count": 17,
   "metadata": {},
   "outputs": [],
   "source": [
    "lda_model = gensim.models.LdaMulticore(bow_corpus, num_topics=topic_num, id2word=dictionary, passes=20, workers=2)"
   ]
  },
  {
   "cell_type": "code",
   "execution_count": 18,
   "metadata": {},
   "outputs": [
    {
     "name": "stdout",
     "output_type": "stream",
     "text": [
      "Topic: 0 \n",
      "Words: 0.053*\"enron\" + 0.035*\"energy\" + 0.023*\"letter\" + 0.020*\"eol\" + 0.019*\"trading\" + 0.018*\"agreement\" + 0.017*\"credit\" + 0.017*\"``\" + 0.016*\"''\" + 0.016*\"isda\"\n",
      "Topic: 1 \n",
      "Words: 0.056*\"gas\" + 0.035*\"deal\" + 0.031*\"agreement\" + 0.021*\"california\" + 0.018*\"list\" + 0.017*\"capacity\" + 0.017*\"request\" + 0.013*\"revised\" + 0.012*\"info\" + 0.011*\"e\"\n",
      "Topic: 2 \n",
      "Words: 0.064*\"meeting\" + 0.025*\"...\" + 0.022*\"call\" + 0.019*\"conference\" + 0.011*\"game\" + 0.010*\"management\" + 0.010*\"april\" + 0.010*\"issues\" + 0.010*\"today\" + 0.010*\"friday\"\n",
      "Topic: 3 \n",
      "Words: 0.056*\"new\" + 0.027*\"power\" + 0.017*\"deals\" + 0.016*\"schedule\" + 0.012*\"information\" + 0.011*\"book\" + 0.011*\"plan\" + 0.011*\"storage\" + 0.010*\"west\" + 0.010*\"netco\"\n",
      "Topic: 4 \n",
      "Words: 0.033*\"update\" + 0.025*\"contract\" + 0.020*\"--\" + 0.018*\"report\" + 0.016*\"please\" + 0.014*\"lunch\" + 0.013*\"dinner\" + 0.012*\"final\" + 0.012*\"ca\" + 0.011*\"presentation\"\n"
     ]
    }
   ],
   "source": []
  },
  {
   "cell_type": "code",
   "execution_count": 19,
   "metadata": {},
   "outputs": [
    {
     "name": "stdout",
     "output_type": "stream",
     "text": [
      "Topic: 0 Word: 0.028*\"deal\" + 0.024*\"meeting\" + 0.012*\"hello\" + 0.009*\"netco\" + 0.009*\"information\" + 0.008*\"enron\" + 0.008*\"isda\" + 0.007*\"good\" + 0.007*\"gas\" + 0.007*\"document\"\n",
      "Topic: 1 Word: 0.021*\"agreement\" + 0.016*\"call\" + 0.016*\"contract\" + 0.014*\"hey\" + 0.012*\"conference\" + 0.011*\"tw\" + 0.009*\"contracts\" + 0.009*\"book\" + 0.009*\"approval\" + 0.008*\"meeting\"\n",
      "Topic: 2 Word: 0.019*\"power\" + 0.015*\"gas\" + 0.015*\"master\" + 0.013*\"energy\" + 0.013*\"agreement\" + 0.012*\"info\" + 0.010*\"project\" + 0.009*\"inc\" + 0.009*\"ces\" + 0.008*\"new\"\n",
      "Topic: 3 Word: 0.016*\"lunch\" + 0.015*\"update\" + 0.014*\"...\" + 0.012*\"gisb\" + 0.011*\"letter\" + 0.010*\"checkout\" + 0.010*\"ca\" + 0.009*\"test\" + 0.009*\"trading\" + 0.008*\"e\"\n",
      "Topic: 4 Word: 0.016*\"new\" + 0.014*\"enron\" + 0.013*\"credit\" + 0.012*\"california\" + 0.011*\"eol\" + 0.011*\"hi\" + 0.010*\"fwd\" + 0.009*\"capacity\" + 0.009*\"game\" + 0.009*\"resume\"\n"
     ]
    }
   ],
   "source": [
    "lda_model_tfidf = gensim.models.LdaMulticore(corpus_tfidf, num_topics=topic_num, id2word=dictionary, passes=2, workers=4)\n",
    "for idx, topic in lda_model_tfidf.print_topics(-1):\n",
    "    print('Topic: {} Word: {}'.format(idx, topic))"
   ]
  },
  {
   "cell_type": "code",
   "execution_count": 20,
   "metadata": {},
   "outputs": [
    {
     "name": "stdout",
     "output_type": "stream",
     "text": [
      "\n",
      "Score: 0.5500427484512329\t \n",
      "Topic: 0.053*\"enron\" + 0.035*\"energy\" + 0.023*\"letter\" + 0.020*\"eol\" + 0.019*\"trading\" + 0.018*\"agreement\" + 0.017*\"credit\"\n",
      "\n",
      "Score: 0.2992553114891052\t \n",
      "Topic: 0.064*\"meeting\" + 0.025*\"...\" + 0.022*\"call\" + 0.019*\"conference\" + 0.011*\"game\" + 0.010*\"management\" + 0.010*\"april\"\n",
      "\n",
      "Score: 0.05069613456726074\t \n",
      "Topic: 0.056*\"gas\" + 0.035*\"deal\" + 0.031*\"agreement\" + 0.021*\"california\" + 0.018*\"list\" + 0.017*\"capacity\" + 0.017*\"request\"\n",
      "\n",
      "Score: 0.05000292509794235\t \n",
      "Topic: 0.033*\"update\" + 0.025*\"contract\" + 0.020*\"--\" + 0.018*\"report\" + 0.016*\"please\" + 0.014*\"lunch\" + 0.013*\"dinner\"\n",
      "\n",
      "Score: 0.05000290274620056\t \n",
      "Topic: 0.056*\"new\" + 0.027*\"power\" + 0.017*\"deals\" + 0.016*\"schedule\" + 0.012*\"information\" + 0.011*\"book\" + 0.011*\"plan\"\n"
     ]
    }
   ],
   "source": [
    "for index, score in sorted(lda_model[bow_corpus[4310]], key=lambda tup: -1*tup[1]):\n",
    "    print(\"\\nScore: {}\\t \\nTopic: {}\".format(score, lda_model.print_topic(index, show_feature)))"
   ]
  },
  {
   "cell_type": "code",
   "execution_count": 21,
   "metadata": {},
   "outputs": [
    {
     "name": "stdout",
     "output_type": "stream",
     "text": [
      "\n",
      "Score: 0.4719347357749939\t \n",
      "Topic: 0.016*\"new\" + 0.014*\"enron\" + 0.013*\"credit\" + 0.012*\"california\" + 0.011*\"eol\" + 0.011*\"hi\" + 0.010*\"fwd\"\n",
      "\n",
      "Score: 0.3750551640987396\t \n",
      "Topic: 0.019*\"power\" + 0.015*\"gas\" + 0.015*\"master\" + 0.013*\"energy\" + 0.013*\"agreement\" + 0.012*\"info\" + 0.010*\"project\"\n",
      "\n",
      "Score: 0.052007295191287994\t \n",
      "Topic: 0.016*\"lunch\" + 0.015*\"update\" + 0.014*\"...\" + 0.012*\"gisb\" + 0.011*\"letter\" + 0.010*\"checkout\" + 0.010*\"ca\"\n",
      "\n",
      "Score: 0.050592586398124695\t \n",
      "Topic: 0.028*\"deal\" + 0.024*\"meeting\" + 0.012*\"hello\" + 0.009*\"netco\" + 0.009*\"information\" + 0.008*\"enron\" + 0.008*\"isda\"\n",
      "\n",
      "Score: 0.05041024833917618\t \n",
      "Topic: 0.021*\"agreement\" + 0.016*\"call\" + 0.016*\"contract\" + 0.014*\"hey\" + 0.012*\"conference\" + 0.011*\"tw\" + 0.009*\"contracts\"\n"
     ]
    }
   ],
   "source": [
    "for index, score in sorted(lda_model_tfidf[bow_corpus[4310]], key=lambda tup: -1*tup[1]):\n",
    "    print(\"\\nScore: {}\\t \\nTopic: {}\".format(score, lda_model_tfidf.print_topic(index, show_feature)))"
   ]
  },
  {
   "cell_type": "code",
   "execution_count": 22,
   "metadata": {},
   "outputs": [
    {
     "name": "stdout",
     "output_type": "stream",
     "text": [
      "Score: 0.44001737236976624\t Topic: 0.053*\"enron\" + 0.035*\"energy\" + 0.023*\"letter\" + 0.020*\"eol\" + 0.019*\"trading\" + 0.018*\"agreement\" + 0.017*\"credit\"\n",
      "Score: 0.43975332379341125\t Topic: 0.056*\"gas\" + 0.035*\"deal\" + 0.031*\"agreement\" + 0.021*\"california\" + 0.018*\"list\" + 0.017*\"capacity\" + 0.017*\"request\"\n",
      "Score: 0.04021953418850899\t Topic: 0.064*\"meeting\" + 0.025*\"...\" + 0.022*\"call\" + 0.019*\"conference\" + 0.011*\"game\" + 0.010*\"management\" + 0.010*\"april\"\n",
      "Score: 0.04000651091337204\t Topic: 0.056*\"new\" + 0.027*\"power\" + 0.017*\"deals\" + 0.016*\"schedule\" + 0.012*\"information\" + 0.011*\"book\" + 0.011*\"plan\"\n",
      "Score: 0.04000326991081238\t Topic: 0.033*\"update\" + 0.025*\"contract\" + 0.020*\"--\" + 0.018*\"report\" + 0.016*\"please\" + 0.014*\"lunch\" + 0.013*\"dinner\"\n"
     ]
    }
   ],
   "source": [
    "unseen_document = ['how','pentagon','be']\n",
    "bow_vector = dictionary.doc2bow(subject_tokens[0])\n",
    "for index, score in sorted(lda_model[bow_vector], key=lambda tup: -1*tup[1]):\n",
    "    print(\"Score: {}\\t Topic: {}\".format(score, lda_model.print_topic(index, show_feature)))"
   ]
  },
  {
   "cell_type": "code",
   "execution_count": 29,
   "metadata": {},
   "outputs": [
    {
     "data": {
      "text/plain": [
       "array([[5.4903303e-06, 5.3315543e-02, 2.4928332e-03, ..., 5.6026879e-06,\n",
       "        5.6026906e-06, 1.0235189e-03],\n",
       "       [1.7291348e-03, 5.3949725e-06, 5.4043680e-06, ..., 1.3964525e-03,\n",
       "        5.3436179e-06, 5.3944814e-06],\n",
       "       [6.0666073e-04, 5.1074662e-06, 5.0873814e-06, ..., 5.2075720e-06,\n",
       "        5.8230848e-06, 5.0471499e-06],\n",
       "       [5.2735081e-06, 3.0947936e-04, 5.3377285e-06, ..., 5.5158421e-06,\n",
       "        5.3875215e-06, 5.5603550e-06],\n",
       "       [6.3606317e-06, 6.3603766e-06, 6.4196256e-06, ..., 6.5366889e-06,\n",
       "        1.2319734e-03, 6.5161471e-06]], dtype=float32)"
      ]
     },
     "execution_count": 29,
     "metadata": {},
     "output_type": "execute_result"
    }
   ],
   "source": []
  },
  {
   "cell_type": "code",
   "execution_count": 23,
   "metadata": {},
   "outputs": [],
   "source": [
    "subject_topics = []\n",
    "for subject in emails_df['token_subject']:\n",
    "    bow_vector = dictionary.doc2bow(subject)\n",
    "    subject_topics.append(dict(lda_model[bow_vector]))"
   ]
  },
  {
   "cell_type": "code",
   "execution_count": 30,
   "metadata": {},
   "outputs": [
    {
     "data": {
      "text/plain": [
       "[(1, 0.053315543),\n",
       " (37, 0.034853052),\n",
       " (121, 0.022558168),\n",
       " (141, 0.020312788),\n",
       " (421, 0.019311314),\n",
       " (88, 0.01754928),\n",
       " (117, 0.016980043),\n",
       " (266, 0.016740583),\n",
       " (208, 0.016245471),\n",
       " (861, 0.015849246)]"
      ]
     },
     "execution_count": 30,
     "metadata": {},
     "output_type": "execute_result"
    }
   ],
   "source": [
    "lda_model.get_topic_terms(0, topn=10)"
   ]
  },
  {
   "cell_type": "code",
   "execution_count": 31,
   "metadata": {},
   "outputs": [
    {
     "data": {
      "text/plain": [
       "array([[5.4903303e-06, 5.3315543e-02, 2.4928332e-03, ..., 5.6026879e-06,\n",
       "        5.6026906e-06, 1.0235189e-03],\n",
       "       [1.7291348e-03, 5.3949725e-06, 5.4043680e-06, ..., 1.3964525e-03,\n",
       "        5.3436179e-06, 5.3944814e-06],\n",
       "       [6.0666073e-04, 5.1074662e-06, 5.0873814e-06, ..., 5.2075720e-06,\n",
       "        5.8230848e-06, 5.0471499e-06],\n",
       "       [5.2735081e-06, 3.0947936e-04, 5.3377285e-06, ..., 5.5158421e-06,\n",
       "        5.3875215e-06, 5.5603550e-06],\n",
       "       [6.3606317e-06, 6.3603766e-06, 6.4196256e-06, ..., 6.5366889e-06,\n",
       "        1.2319734e-03, 6.5161471e-06]], dtype=float32)"
      ]
     },
     "execution_count": 31,
     "metadata": {},
     "output_type": "execute_result"
    }
   ],
   "source": []
  },
  {
   "cell_type": "code",
   "execution_count": 53,
   "metadata": {},
   "outputs": [],
   "source": [
    "exec_email_df = emails_df[[x in exec_list for x in emails_df['sender_level']]]\n",
    "employee_email_df = emails_df[emails_df['sender_level']=='Employee']\n",
    "\n",
    "Total_Emails = list(employee_email_df['token_subject'])+list(exec_email_df['token_subject'])\n",
    "\n",
    "exec_dictionary = gensim.corpora.Dictionary(Total_Emails)\n",
    "exec_dictionary.filter_extremes(no_below=15, no_above=0.5, keep_n=100000)\n",
    "\n",
    "exec_corpus = [dictionary.doc2bow(doc) for doc in list(exec_email_df['token_subject'])]\n",
    "\n",
    "employee_corpus =[dictionary.doc2bow(doc) for doc in list(employee_email_df['token_subject'])]\n",
    "\n",
    "\n",
    "Exec_model = gensim.models.LdaMulticore(exec_corpus, num_topics=topic_num, id2word=dictionary, passes=20, workers=2)\n",
    "Employee_model = gensim.models.LdaMulticore(employee_corpus, num_topics=topic_num, id2word=dictionary, passes=20, workers=2)"
   ]
  },
  {
   "cell_type": "code",
   "execution_count": 56,
   "metadata": {},
   "outputs": [],
   "source": [
    "mdiff, annotation = Exec_model.diff(Employee_model)"
   ]
  },
  {
   "cell_type": "code",
   "execution_count": 57,
   "metadata": {},
   "outputs": [
    {
     "data": {
      "text/plain": [
       "array([[0.97538688, 0.96850545, 0.90484161, 0.6768113 , 0.91820328],\n",
       "       [0.89332831, 0.77634917, 0.7928334 , 0.90771066, 1.        ],\n",
       "       [0.787698  , 0.85637377, 0.86991786, 0.8691997 , 0.93276679],\n",
       "       [0.78568009, 0.82593486, 0.94245981, 0.92296012, 0.76712376],\n",
       "       [0.85035395, 0.88523307, 0.86799871, 0.90570744, 0.64555964]])"
      ]
     },
     "execution_count": 57,
     "metadata": {},
     "output_type": "execute_result"
    }
   ],
   "source": [
    "mdiff"
   ]
  },
  {
   "cell_type": "code",
   "execution_count": 64,
   "metadata": {},
   "outputs": [
    {
     "data": {
      "text/plain": [
       "[([(0.024912834, 'power'),\n",
       "   (0.023507157, 'call'),\n",
       "   (0.019813964, '--'),\n",
       "   (0.014668309, 'conference'),\n",
       "   (0.014410517, 'issues')],\n",
       "  -7.899856758621814),\n",
       " ([(0.0516545, 'gas'),\n",
       "   (0.025557319, 'update'),\n",
       "   (0.024599167, 'trading'),\n",
       "   (0.018444642, '...'),\n",
       "   (0.014154788, 'ena')],\n",
       "  -10.453911658471792),\n",
       " ([(0.024499604, 'new'),\n",
       "   (0.020149786, 'expense'),\n",
       "   (0.019933272, 'ubs'),\n",
       "   (0.017698081, 'management'),\n",
       "   (0.017422402, 'document')],\n",
       "  -11.376159617710819),\n",
       " ([(0.039823454, 'enron'),\n",
       "   (0.029850056, 'request'),\n",
       "   (0.025310017, 'netco'),\n",
       "   (0.019665524, 'deal'),\n",
       "   (0.017553488, 'tw')],\n",
       "  -13.584480838697662),\n",
       " ([(0.08412206, 'meeting'),\n",
       "   (0.021503825, 'plan'),\n",
       "   (0.0182059, 'eol'),\n",
       "   (0.012866424, 'today'),\n",
       "   (0.012773377, 'enrononline')],\n",
       "  -13.882475681546453)]"
      ]
     },
     "execution_count": 64,
     "metadata": {},
     "output_type": "execute_result"
    }
   ],
   "source": [
    "Exec_model.top_topics(employee_corpus,topn=5)"
   ]
  },
  {
   "cell_type": "code",
   "execution_count": 76,
   "metadata": {},
   "outputs": [
    {
     "name": "stdout",
     "output_type": "stream",
     "text": [
      "\n",
      "Score: 0.5974438786506653\t \n",
      "Topic: 0.016*\"lunch\" + 0.015*\"update\" + 0.014*\"...\" + 0.012*\"gisb\" + 0.011*\"letter\" + 0.010*\"checkout\" + 0.010*\"ca\"\n",
      "\n",
      "Score: 0.10202427953481674\t \n",
      "Topic: 0.016*\"new\" + 0.014*\"enron\" + 0.013*\"credit\" + 0.012*\"california\" + 0.011*\"eol\" + 0.011*\"hi\" + 0.010*\"fwd\"\n",
      "\n",
      "Score: 0.100287526845932\t \n",
      "Topic: 0.021*\"agreement\" + 0.016*\"call\" + 0.016*\"contract\" + 0.014*\"hey\" + 0.012*\"conference\" + 0.011*\"tw\" + 0.009*\"contracts\"\n",
      "\n",
      "Score: 0.10021429508924484\t \n",
      "Topic: 0.019*\"power\" + 0.015*\"gas\" + 0.015*\"master\" + 0.013*\"energy\" + 0.013*\"agreement\" + 0.012*\"info\" + 0.010*\"project\"\n",
      "\n",
      "Score: 0.10003002732992172\t \n",
      "Topic: 0.028*\"deal\" + 0.024*\"meeting\" + 0.012*\"hello\" + 0.009*\"netco\" + 0.009*\"information\" + 0.008*\"enron\" + 0.008*\"isda\"\n"
     ]
    }
   ],
   "source": [
    "for index, score in sorted(lda_model_tfidf[exec_corpus[4310]], key=lambda tup: -1*tup[1]):\n",
    "    print(\"\\nScore: {}\\t \\nTopic: {}\".format(score, lda_model_tfidf.print_topic(index, show_feature)))"
   ]
  }
 ],
 "metadata": {
  "kernelspec": {
   "display_name": "Python 3",
   "language": "python",
   "name": "python3"
  },
  "language_info": {
   "codemirror_mode": {
    "name": "ipython",
    "version": 3
   },
   "file_extension": ".py",
   "mimetype": "text/x-python",
   "name": "python",
   "nbconvert_exporter": "python",
   "pygments_lexer": "ipython3",
   "version": "3.7.3"
  }
 },
 "nbformat": 4,
 "nbformat_minor": 2
}
