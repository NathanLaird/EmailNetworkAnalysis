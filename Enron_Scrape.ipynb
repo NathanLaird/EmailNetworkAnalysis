{
 "cells": [
  {
   "cell_type": "code",
   "execution_count": 1,
   "metadata": {},
   "outputs": [],
   "source": [
    "import mysql.connector\n",
    "import pandas as pd\n",
    "import numpy as np\n",
    "import matplotlib.pyplot as plt\n",
    "from matplotlib.animation import FuncAnimation\n",
    "import sys"
   ]
  },
  {
   "cell_type": "markdown",
   "metadata": {},
   "source": [
    "# Connect to MySQL Server"
   ]
  },
  {
   "cell_type": "code",
   "execution_count": 2,
   "metadata": {},
   "outputs": [],
   "source": [
    "mydb = mysql.connector.connect(\n",
    "  host=\"localhost\",\n",
    "  user=\"root\",\n",
    "  passwd=\"enron\",\n",
    "  database=\"emails\",\n",
    "  auth_plugin='mysql_native_password'\n",
    ")"
   ]
  },
  {
   "cell_type": "code",
   "execution_count": 3,
   "metadata": {},
   "outputs": [
    {
     "data": {
      "text/html": [
       "<div>\n",
       "<style scoped>\n",
       "    .dataframe tbody tr th:only-of-type {\n",
       "        vertical-align: middle;\n",
       "    }\n",
       "\n",
       "    .dataframe tbody tr th {\n",
       "        vertical-align: top;\n",
       "    }\n",
       "\n",
       "    .dataframe thead th {\n",
       "        text-align: right;\n",
       "    }\n",
       "</style>\n",
       "<table border=\"1\" class=\"dataframe\">\n",
       "  <thead>\n",
       "    <tr style=\"text-align: right;\">\n",
       "      <th></th>\n",
       "      <th>mid</th>\n",
       "      <th>sender</th>\n",
       "      <th>date</th>\n",
       "      <th>message_id</th>\n",
       "      <th>subject</th>\n",
       "      <th>body</th>\n",
       "      <th>folder</th>\n",
       "    </tr>\n",
       "  </thead>\n",
       "  <tbody>\n",
       "    <tr>\n",
       "      <th>0</th>\n",
       "      <td>52</td>\n",
       "      <td>press.release@enron.com</td>\n",
       "      <td>2000-01-21 04:51:00</td>\n",
       "      <td>&lt;12435833.1075863606729.JavaMail.evans@thyme&gt;</td>\n",
       "      <td>ENRON HOSTS ANNUAL ANALYST CONFERENCE PROVIDES...</td>\n",
       "      <td>HOUSTON - Enron Corp. hosted its annual equity...</td>\n",
       "      <td>Robert_Badeer_Aug2000Notes FoldersPress releases</td>\n",
       "    </tr>\n",
       "    <tr>\n",
       "      <th>1</th>\n",
       "      <td>53</td>\n",
       "      <td>office.chairman@enron.com</td>\n",
       "      <td>2000-01-24 01:37:00</td>\n",
       "      <td>&lt;29664079.1075863606676.JavaMail.evans@thyme&gt;</td>\n",
       "      <td>Over $50 -- You made it happen!</td>\n",
       "      <td>On Wall Street, people are talking about Enron...</td>\n",
       "      <td>Robert_Badeer_Aug2000Notes FoldersPress releases</td>\n",
       "    </tr>\n",
       "    <tr>\n",
       "      <th>2</th>\n",
       "      <td>54</td>\n",
       "      <td>office.chairman@enron.com</td>\n",
       "      <td>2000-01-24 02:06:00</td>\n",
       "      <td>&lt;15300605.1075863606629.JavaMail.evans@thyme&gt;</td>\n",
       "      <td>Over $50 -- You made it happen!</td>\n",
       "      <td>On Wall Street, people are talking about Enron...</td>\n",
       "      <td>Robert_Badeer_Aug2000Notes FoldersPress releases</td>\n",
       "    </tr>\n",
       "  </tbody>\n",
       "</table>\n",
       "</div>"
      ],
      "text/plain": [
       "   mid                     sender                 date  \\\n",
       "0   52    press.release@enron.com  2000-01-21 04:51:00   \n",
       "1   53  office.chairman@enron.com  2000-01-24 01:37:00   \n",
       "2   54  office.chairman@enron.com  2000-01-24 02:06:00   \n",
       "\n",
       "                                      message_id  \\\n",
       "0  <12435833.1075863606729.JavaMail.evans@thyme>   \n",
       "1  <29664079.1075863606676.JavaMail.evans@thyme>   \n",
       "2  <15300605.1075863606629.JavaMail.evans@thyme>   \n",
       "\n",
       "                                             subject  \\\n",
       "0  ENRON HOSTS ANNUAL ANALYST CONFERENCE PROVIDES...   \n",
       "1                    Over $50 -- You made it happen!   \n",
       "2                    Over $50 -- You made it happen!   \n",
       "\n",
       "                                                body  \\\n",
       "0  HOUSTON - Enron Corp. hosted its annual equity...   \n",
       "1  On Wall Street, people are talking about Enron...   \n",
       "2  On Wall Street, people are talking about Enron...   \n",
       "\n",
       "                                             folder  \n",
       "0  Robert_Badeer_Aug2000Notes FoldersPress releases  \n",
       "1  Robert_Badeer_Aug2000Notes FoldersPress releases  \n",
       "2  Robert_Badeer_Aug2000Notes FoldersPress releases  "
      ]
     },
     "execution_count": 3,
     "metadata": {},
     "output_type": "execute_result"
    }
   ],
   "source": [
    "mycursor = mydb.cursor()\n",
    "\n",
    "# Extract Data to Pandas\n",
    "\n",
    "mycursor.execute(\"SELECT * FROM message\")\n",
    "\n",
    "myresult = mycursor.fetchall()\n",
    "\n",
    "email_df = pd.DataFrame(myresult)\n",
    "\n",
    "email_df.columns = ['mid','sender','date','message_id','subject','body','folder']\n",
    "\n",
    "email_df.head(3)"
   ]
  },
  {
   "cell_type": "code",
   "execution_count": null,
   "metadata": {},
   "outputs": [],
   "source": []
  },
  {
   "cell_type": "code",
   "execution_count": 4,
   "metadata": {},
   "outputs": [
    {
     "data": {
      "text/html": [
       "<div>\n",
       "<style scoped>\n",
       "    .dataframe tbody tr th:only-of-type {\n",
       "        vertical-align: middle;\n",
       "    }\n",
       "\n",
       "    .dataframe tbody tr th {\n",
       "        vertical-align: top;\n",
       "    }\n",
       "\n",
       "    .dataframe thead th {\n",
       "        text-align: right;\n",
       "    }\n",
       "</style>\n",
       "<table border=\"1\" class=\"dataframe\">\n",
       "  <thead>\n",
       "    <tr style=\"text-align: right;\">\n",
       "      <th></th>\n",
       "      <th>rid</th>\n",
       "      <th>mid</th>\n",
       "      <th>r_type</th>\n",
       "      <th>r_value</th>\n",
       "      <th>date_r</th>\n",
       "    </tr>\n",
       "  </thead>\n",
       "  <tbody>\n",
       "    <tr>\n",
       "      <th>0</th>\n",
       "      <td>67</td>\n",
       "      <td>52</td>\n",
       "      <td>TO</td>\n",
       "      <td>all.worldwide@enron.com</td>\n",
       "      <td>None</td>\n",
       "    </tr>\n",
       "    <tr>\n",
       "      <th>1</th>\n",
       "      <td>68</td>\n",
       "      <td>53</td>\n",
       "      <td>TO</td>\n",
       "      <td>all.downtown@enron.com</td>\n",
       "      <td>None</td>\n",
       "    </tr>\n",
       "    <tr>\n",
       "      <th>2</th>\n",
       "      <td>69</td>\n",
       "      <td>54</td>\n",
       "      <td>TO</td>\n",
       "      <td>all.enron-worldwide@enron.com</td>\n",
       "      <td>None</td>\n",
       "    </tr>\n",
       "  </tbody>\n",
       "</table>\n",
       "</div>"
      ],
      "text/plain": [
       "   rid  mid r_type                        r_value date_r\n",
       "0   67   52     TO        all.worldwide@enron.com   None\n",
       "1   68   53     TO         all.downtown@enron.com   None\n",
       "2   69   54     TO  all.enron-worldwide@enron.com   None"
      ]
     },
     "execution_count": 4,
     "metadata": {},
     "output_type": "execute_result"
    }
   ],
   "source": [
    "mycursor.execute(\"SELECT * FROM employeelist\")\n",
    "\n",
    "myresult = mycursor.fetchall()\n",
    "\n",
    "employee_df = pd.DataFrame(myresult)\n",
    "\n",
    "employee_df.columns = ['eid','first_name','last_name','email_id']\n",
    "\n",
    "employee_df.head(3)\n",
    "\n",
    "mycursor.execute(\"SELECT * FROM recipientinfo\")\n",
    "\n",
    "myresult = mycursor.fetchall()\n",
    "\n",
    "recipient_df = pd.DataFrame(myresult)\n",
    "\n",
    "recipient_df.columns = ['rid','mid','r_type','r_value','date_r']\n",
    "\n",
    "recipient_df.head(3)"
   ]
  },
  {
   "cell_type": "code",
   "execution_count": 5,
   "metadata": {
    "scrolled": true
   },
   "outputs": [
    {
     "data": {
      "text/html": [
       "<div>\n",
       "<style scoped>\n",
       "    .dataframe tbody tr th:only-of-type {\n",
       "        vertical-align: middle;\n",
       "    }\n",
       "\n",
       "    .dataframe tbody tr th {\n",
       "        vertical-align: top;\n",
       "    }\n",
       "\n",
       "    .dataframe thead th {\n",
       "        text-align: right;\n",
       "    }\n",
       "</style>\n",
       "<table border=\"1\" class=\"dataframe\">\n",
       "  <thead>\n",
       "    <tr style=\"text-align: right;\">\n",
       "      <th></th>\n",
       "      <th>rfid</th>\n",
       "      <th>mid</th>\n",
       "      <th>reference</th>\n",
       "    </tr>\n",
       "  </thead>\n",
       "  <tbody>\n",
       "    <tr>\n",
       "      <th>0</th>\n",
       "      <td>2</td>\n",
       "      <td>79</td>\n",
       "      <td>&gt; From: Le Vine, Debi&gt; Sent: Thursday, August ...</td>\n",
       "    </tr>\n",
       "    <tr>\n",
       "      <th>1</th>\n",
       "      <td>3</td>\n",
       "      <td>99</td>\n",
       "      <td>&gt; From: Golden, Mark&gt; Sent: Thursday, August 2...</td>\n",
       "    </tr>\n",
       "    <tr>\n",
       "      <th>2</th>\n",
       "      <td>8</td>\n",
       "      <td>533</td>\n",
       "      <td>From: Sole, JeanneSent: Friday, August 18, 200...</td>\n",
       "    </tr>\n",
       "  </tbody>\n",
       "</table>\n",
       "</div>"
      ],
      "text/plain": [
       "   rfid  mid                                          reference\n",
       "0     2   79  > From: Le Vine, Debi> Sent: Thursday, August ...\n",
       "1     3   99  > From: Golden, Mark> Sent: Thursday, August 2...\n",
       "2     8  533  From: Sole, JeanneSent: Friday, August 18, 200..."
      ]
     },
     "execution_count": 5,
     "metadata": {},
     "output_type": "execute_result"
    }
   ],
   "source": [
    "mycursor.execute(\"SELECT * FROM referenceinfo\")\n",
    "\n",
    "myresult = mycursor.fetchall()\n",
    "\n",
    "reference_df = pd.DataFrame(myresult)\n",
    "\n",
    "reference_df.columns = ['rfid','mid','reference']\n",
    "\n",
    "reference_df.head(3)\n",
    "\n",
    "# Data Frame Characteristics"
   ]
  },
  {
   "cell_type": "code",
   "execution_count": 6,
   "metadata": {},
   "outputs": [
    {
     "data": {
      "text/plain": [
       "68224"
      ]
     },
     "execution_count": 6,
     "metadata": {},
     "output_type": "execute_result"
    }
   ],
   "source": [
    "len(set(recipient_df['r_value']))"
   ]
  },
  {
   "cell_type": "code",
   "execution_count": 7,
   "metadata": {},
   "outputs": [
    {
     "data": {
      "text/plain": [
       "54778"
      ]
     },
     "execution_count": 7,
     "metadata": {},
     "output_type": "execute_result"
    }
   ],
   "source": [
    "len(reference_df)"
   ]
  },
  {
   "cell_type": "code",
   "execution_count": 8,
   "metadata": {},
   "outputs": [
    {
     "data": {
      "text/plain": [
       "3893"
      ]
     },
     "execution_count": 8,
     "metadata": {},
     "output_type": "execute_result"
    }
   ],
   "source": [
    "len(set(email_df['folder']))"
   ]
  },
  {
   "cell_type": "markdown",
   "metadata": {},
   "source": [
    "# Create Dataframe of email records with sender and reciever information"
   ]
  },
  {
   "cell_type": "code",
   "execution_count": 9,
   "metadata": {},
   "outputs": [],
   "source": [
    "# create mapping of messages to lists of recipients and how many recipients that email has\n",
    "mid_dict = {}\n",
    "count =0\n",
    "total = len(recipient_df)\n",
    "for mid,r_value in zip(recipient_df['mid'],recipient_df['r_value']) :\n",
    "    if mid in mid_dict.keys():\n",
    "        mid_dict[mid].append(r_value)\n",
    "    else:\n",
    "        mid_dict[mid] = [r_value]"
   ]
  },
  {
   "cell_type": "code",
   "execution_count": 10,
   "metadata": {},
   "outputs": [
    {
     "data": {
      "text/plain": [
       "252759"
      ]
     },
     "execution_count": 10,
     "metadata": {},
     "output_type": "execute_result"
    }
   ],
   "source": [
    "#unique message IDs, hopefully the same as len(email_df)\n",
    "len(mid_dict)"
   ]
  },
  {
   "cell_type": "code",
   "execution_count": null,
   "metadata": {},
   "outputs": [],
   "source": []
  },
  {
   "cell_type": "code",
   "execution_count": null,
   "metadata": {},
   "outputs": [],
   "source": []
  },
  {
   "cell_type": "markdown",
   "metadata": {},
   "source": [
    "# count how many emails a particular user sends and  recieves"
   ]
  },
  {
   "cell_type": "markdown",
   "metadata": {},
   "source": [
    "sender_total_dict = {}\n",
    "for sender in email_df['sender']:\n",
    "    if sender in sender_total_dict:\n",
    "        sender_total_dict[sender] += 1\n",
    "    else:\n",
    "        sender_total_dict[sender] = 1\n",
    "\n",
    "recer_total_dict = {}\n",
    "for recer in recipient_df['r_value']:\n",
    "    if recer in recer_total_dict:\n",
    "        recer_total_dict[recer] += 1\n",
    "    else:\n",
    "        recer_total_dict[recer] = 1"
   ]
  },
  {
   "cell_type": "code",
   "execution_count": null,
   "metadata": {},
   "outputs": [],
   "source": []
  },
  {
   "cell_type": "code",
   "execution_count": 11,
   "metadata": {},
   "outputs": [
    {
     "data": {
      "text/plain": [
       "(0, 5000)"
      ]
     },
     "execution_count": 11,
     "metadata": {},
     "output_type": "execute_result"
    },
    {
     "data": {
      "image/png": "[encoded data removed]",
      "text/plain": [
       "<Figure size 432x288 with 1 Axes>"
      ]
     },
     "metadata": {
      "needs_background": "light"
     },
     "output_type": "display_data"
    }
   ],
   "source": [
    "network_df = pd.DataFrame()\n",
    "\n",
    "network_df['mid'] = list(set(recipient_df['mid']))\n",
    "\n",
    "\n",
    "lst = []\n",
    "lst_num = []\n",
    "for mid in network_df['mid']:\n",
    "    lst.append(mid_dict[mid])\n",
    "    lst_num.append(len(mid_dict[mid]))\n",
    "network_df['rec_list'] = lst\n",
    "network_df['rec_count'] = lst_num\n",
    "\n",
    "\n",
    "plt.hist(network_df['rec_count'])\n",
    "plt.ylim(0,5000)"
   ]
  },
  {
   "cell_type": "code",
   "execution_count": 12,
   "metadata": {},
   "outputs": [
    {
     "data": {
      "text/html": [
       "<div>\n",
       "<style scoped>\n",
       "    .dataframe tbody tr th:only-of-type {\n",
       "        vertical-align: middle;\n",
       "    }\n",
       "\n",
       "    .dataframe tbody tr th {\n",
       "        vertical-align: top;\n",
       "    }\n",
       "\n",
       "    .dataframe thead th {\n",
       "        text-align: right;\n",
       "    }\n",
       "</style>\n",
       "<table border=\"1\" class=\"dataframe\">\n",
       "  <thead>\n",
       "    <tr style=\"text-align: right;\">\n",
       "      <th></th>\n",
       "      <th>mid</th>\n",
       "      <th>rec_list</th>\n",
       "      <th>rec_count</th>\n",
       "      <th>sender</th>\n",
       "      <th>date</th>\n",
       "    </tr>\n",
       "  </thead>\n",
       "  <tbody>\n",
       "    <tr>\n",
       "      <th>0</th>\n",
       "      <td>52</td>\n",
       "      <td>[all.worldwide@enron.com]</td>\n",
       "      <td>1</td>\n",
       "      <td>press.release@enron.com</td>\n",
       "      <td>2000-01-21 04:51:00</td>\n",
       "    </tr>\n",
       "    <tr>\n",
       "      <th>1</th>\n",
       "      <td>53</td>\n",
       "      <td>[all.downtown@enron.com]</td>\n",
       "      <td>1</td>\n",
       "      <td>office.chairman@enron.com</td>\n",
       "      <td>2000-01-24 01:37:00</td>\n",
       "    </tr>\n",
       "    <tr>\n",
       "      <th>2</th>\n",
       "      <td>54</td>\n",
       "      <td>[all.enron-worldwide@enron.com]</td>\n",
       "      <td>1</td>\n",
       "      <td>office.chairman@enron.com</td>\n",
       "      <td>2000-01-24 02:06:00</td>\n",
       "    </tr>\n",
       "    <tr>\n",
       "      <th>3</th>\n",
       "      <td>55</td>\n",
       "      <td>[all.worldwide@enron.com]</td>\n",
       "      <td>1</td>\n",
       "      <td>press.release@enron.com</td>\n",
       "      <td>2000-02-02 10:21:00</td>\n",
       "    </tr>\n",
       "    <tr>\n",
       "      <th>4</th>\n",
       "      <td>56</td>\n",
       "      <td>[all_enron_north.america@enron.com, ec.communi...</td>\n",
       "      <td>2</td>\n",
       "      <td>office.chairman@enron.com</td>\n",
       "      <td>2000-02-07 22:16:00</td>\n",
       "    </tr>\n",
       "  </tbody>\n",
       "</table>\n",
       "</div>"
      ],
      "text/plain": [
       "   mid                                           rec_list  rec_count  \\\n",
       "0   52                          [all.worldwide@enron.com]          1   \n",
       "1   53                           [all.downtown@enron.com]          1   \n",
       "2   54                    [all.enron-worldwide@enron.com]          1   \n",
       "3   55                          [all.worldwide@enron.com]          1   \n",
       "4   56  [all_enron_north.america@enron.com, ec.communi...          2   \n",
       "\n",
       "                      sender                 date  \n",
       "0    press.release@enron.com  2000-01-21 04:51:00  \n",
       "1  office.chairman@enron.com  2000-01-24 01:37:00  \n",
       "2  office.chairman@enron.com  2000-01-24 02:06:00  \n",
       "3    press.release@enron.com  2000-02-02 10:21:00  \n",
       "4  office.chairman@enron.com  2000-02-07 22:16:00  "
      ]
     },
     "execution_count": 12,
     "metadata": {},
     "output_type": "execute_result"
    }
   ],
   "source": [
    "network_df = network_df.merge(email_df[['mid','sender','date']])\n",
    "\n",
    "network_df.head()"
   ]
  },
  {
   "cell_type": "code",
   "execution_count": 13,
   "metadata": {},
   "outputs": [],
   "source": [
    "# add metric of how many emails the message sender has sent"
   ]
  },
  {
   "cell_type": "markdown",
   "metadata": {},
   "source": [
    "# Create Mapping of users to IDs that includes all known users"
   ]
  },
  {
   "cell_type": "code",
   "execution_count": 14,
   "metadata": {},
   "outputs": [
    {
     "data": {
      "text/plain": [
       "151"
      ]
     },
     "execution_count": 14,
     "metadata": {},
     "output_type": "execute_result"
    }
   ],
   "source": [
    "main_emails = list(employee_df['email_id'])\n",
    "len(main_emails)"
   ]
  },
  {
   "cell_type": "code",
   "execution_count": 15,
   "metadata": {},
   "outputs": [
    {
     "data": {
      "text/plain": [
       "75557"
      ]
     },
     "execution_count": 15,
     "metadata": {},
     "output_type": "execute_result"
    }
   ],
   "source": [
    "all_users = list(set(network_df['sender']))\n",
    "\n",
    "all_users =  all_users + list(recipient_df['r_value'])\n",
    "\n",
    "all_users = list(set(all_users))\n",
    "\n",
    "len(all_users)"
   ]
  },
  {
   "cell_type": "code",
   "execution_count": 16,
   "metadata": {},
   "outputs": [],
   "source": [
    "email_to_id = {}\n",
    "id_to_email ={}\n",
    "count = 0\n",
    "for user in all_users:\n",
    "    email_to_id[user] = count\n",
    "    id_to_email[count] = user\n",
    "    count+=1"
   ]
  },
  {
   "cell_type": "code",
   "execution_count": 17,
   "metadata": {},
   "outputs": [],
   "source": [
    "#[sender in main_emails for sender in email_df['sender']]"
   ]
  },
  {
   "cell_type": "code",
   "execution_count": 18,
   "metadata": {},
   "outputs": [
    {
     "data": {
      "text/plain": [
       "87120"
      ]
     },
     "execution_count": 18,
     "metadata": {},
     "output_type": "execute_result"
    }
   ],
   "source": [
    "# How many of the emails in the corpus originate from the main users\n",
    "sum([(sender in main_emails) for sender in network_df['sender']])"
   ]
  },
  {
   "cell_type": "code",
   "execution_count": null,
   "metadata": {},
   "outputs": [],
   "source": []
  },
  {
   "cell_type": "code",
   "execution_count": null,
   "metadata": {},
   "outputs": [],
   "source": []
  },
  {
   "cell_type": "code",
   "execution_count": null,
   "metadata": {},
   "outputs": [],
   "source": []
  },
  {
   "cell_type": "code",
   "execution_count": 19,
   "metadata": {},
   "outputs": [],
   "source": [
    "user_matrix = np.zeros((len(all_users),len(all_users)))"
   ]
  },
  {
   "cell_type": "code",
   "execution_count": 20,
   "metadata": {},
   "outputs": [],
   "source": [
    "for sender ,rec_list,rec_count in zip(network_df['sender'],network_df['rec_list'],network_df['rec_count']):\n",
    "    for recer in rec_list:\n",
    "        user_matrix[email_to_id[sender]][email_to_id[recer]] += (1/rec_count)\n",
    "        user_matrix[email_to_id[recer]][email_to_id[sender]] += (1/rec_count)"
   ]
  },
  {
   "cell_type": "code",
   "execution_count": null,
   "metadata": {},
   "outputs": [],
   "source": []
  },
  {
   "cell_type": "code",
   "execution_count": 21,
   "metadata": {},
   "outputs": [
    {
     "data": {
      "text/plain": [
       "252759"
      ]
     },
     "execution_count": 21,
     "metadata": {},
     "output_type": "execute_result"
    }
   ],
   "source": [
    "len(network_df)"
   ]
  },
  {
   "cell_type": "code",
   "execution_count": 22,
   "metadata": {},
   "outputs": [
    {
     "data": {
      "text/plain": [
       "array([[0., 0., 0., ..., 0., 0., 0.],\n",
       "       [0., 0., 0., ..., 0., 0., 0.],\n",
       "       [0., 0., 0., ..., 0., 0., 0.],\n",
       "       ...,\n",
       "       [0., 0., 0., ..., 0., 0., 0.],\n",
       "       [0., 0., 0., ..., 0., 0., 0.],\n",
       "       [0., 0., 0., ..., 0., 0., 0.]])"
      ]
     },
     "execution_count": 22,
     "metadata": {},
     "output_type": "execute_result"
    }
   ],
   "source": [
    "user_matrix"
   ]
  },
  {
   "cell_type": "code",
   "execution_count": 23,
   "metadata": {},
   "outputs": [
    {
     "data": {
      "text/plain": [
       "75557"
      ]
     },
     "execution_count": 23,
     "metadata": {},
     "output_type": "execute_result"
    }
   ],
   "source": [
    "len(user_matrix)"
   ]
  },
  {
   "cell_type": "code",
   "execution_count": 24,
   "metadata": {},
   "outputs": [],
   "source": [
    "user_totals = sum(user_matrix)"
   ]
  },
  {
   "cell_type": "code",
   "execution_count": 25,
   "metadata": {},
   "outputs": [
    {
     "data": {
      "text/plain": [
       "505518.00000002206"
      ]
     },
     "execution_count": 25,
     "metadata": {},
     "output_type": "execute_result"
    }
   ],
   "source": [
    "sum(user_totals)"
   ]
  },
  {
   "cell_type": "code",
   "execution_count": 26,
   "metadata": {},
   "outputs": [],
   "source": [
    "# Set Signifigance Threshhold to be in graph"
   ]
  },
  {
   "cell_type": "code",
   "execution_count": 27,
   "metadata": {},
   "outputs": [],
   "source": [
    "sig_thresh = np.percentile(user_totals,99.83)"
   ]
  },
  {
   "cell_type": "code",
   "execution_count": 28,
   "metadata": {},
   "outputs": [
    {
     "data": {
      "text/plain": [
       "510.69194316524573"
      ]
     },
     "execution_count": 28,
     "metadata": {},
     "output_type": "execute_result"
    }
   ],
   "source": [
    "sig_thresh"
   ]
  },
  {
   "cell_type": "code",
   "execution_count": 29,
   "metadata": {},
   "outputs": [],
   "source": [
    "count = 0\n",
    "sig_ids = []\n",
    "for total in user_totals:\n",
    "    if count == email_to_id['jeff.skilling@enron.com']:\n",
    "        sig_ids.append(count)\n",
    "    if total>sig_thresh:\n",
    "        sig_ids.append(count)\n",
    "    count+=1"
   ]
  },
  {
   "cell_type": "code",
   "execution_count": 30,
   "metadata": {},
   "outputs": [
    {
     "data": {
      "text/plain": [
       "130"
      ]
     },
     "execution_count": 30,
     "metadata": {},
     "output_type": "execute_result"
    }
   ],
   "source": [
    "len(sig_ids)"
   ]
  },
  {
   "cell_type": "code",
   "execution_count": 31,
   "metadata": {},
   "outputs": [
    {
     "data": {
      "text/html": [
       "<div>\n",
       "<style scoped>\n",
       "    .dataframe tbody tr th:only-of-type {\n",
       "        vertical-align: middle;\n",
       "    }\n",
       "\n",
       "    .dataframe tbody tr th {\n",
       "        vertical-align: top;\n",
       "    }\n",
       "\n",
       "    .dataframe thead th {\n",
       "        text-align: right;\n",
       "    }\n",
       "</style>\n",
       "<table border=\"1\" class=\"dataframe\">\n",
       "  <thead>\n",
       "    <tr style=\"text-align: right;\">\n",
       "      <th></th>\n",
       "      <th>eid</th>\n",
       "      <th>first_name</th>\n",
       "      <th>last_name</th>\n",
       "      <th>email_id</th>\n",
       "    </tr>\n",
       "  </thead>\n",
       "  <tbody>\n",
       "    <tr>\n",
       "      <th>36</th>\n",
       "      <td>36</td>\n",
       "      <td>Jeffrey</td>\n",
       "      <td>Shankman</td>\n",
       "      <td>a..shankman@enron.com</td>\n",
       "    </tr>\n",
       "    <tr>\n",
       "      <th>129</th>\n",
       "      <td>129</td>\n",
       "      <td>Jeffrey</td>\n",
       "      <td>Skilling</td>\n",
       "      <td>jeff.skilling@enron.com</td>\n",
       "    </tr>\n",
       "  </tbody>\n",
       "</table>\n",
       "</div>"
      ],
      "text/plain": [
       "     eid first_name last_name                 email_id\n",
       "36    36    Jeffrey  Shankman    a..shankman@enron.com\n",
       "129  129    Jeffrey  Skilling  jeff.skilling@enron.com"
      ]
     },
     "execution_count": 31,
     "metadata": {},
     "output_type": "execute_result"
    }
   ],
   "source": [
    "# find Jeffrey Skilling in Data at jeff.skilling@enron.com\n",
    "employee_df[employee_df['first_name'] =='Jeffrey']"
   ]
  },
  {
   "cell_type": "code",
   "execution_count": null,
   "metadata": {},
   "outputs": [],
   "source": []
  },
  {
   "cell_type": "markdown",
   "metadata": {},
   "source": [
    "# Jeffery Skilling Check"
   ]
  },
  {
   "cell_type": "code",
   "execution_count": 32,
   "metadata": {},
   "outputs": [
    {
     "data": {
      "text/plain": [
       "True"
      ]
     },
     "execution_count": 32,
     "metadata": {},
     "output_type": "execute_result"
    }
   ],
   "source": [
    "email_to_id['jeff.skilling@enron.com'] in sig_ids"
   ]
  },
  {
   "cell_type": "code",
   "execution_count": null,
   "metadata": {},
   "outputs": [],
   "source": []
  },
  {
   "cell_type": "code",
   "execution_count": 33,
   "metadata": {},
   "outputs": [
    {
     "data": {
      "text/plain": [
       "73"
      ]
     },
     "execution_count": 33,
     "metadata": {},
     "output_type": "execute_result"
    }
   ],
   "source": [
    "sum([email_to_id[email] in sig_ids for email in employee_df['email_id'] ])"
   ]
  },
  {
   "cell_type": "code",
   "execution_count": 34,
   "metadata": {},
   "outputs": [],
   "source": [
    "sig_users = [id_to_email[eid] for eid in sig_ids]"
   ]
  },
  {
   "cell_type": "code",
   "execution_count": null,
   "metadata": {},
   "outputs": [],
   "source": []
  },
  {
   "cell_type": "markdown",
   "metadata": {},
   "source": [
    "\n",
    "# Create Sig Users Network\n"
   ]
  },
  {
   "cell_type": "code",
   "execution_count": 35,
   "metadata": {},
   "outputs": [
    {
     "data": {
      "text/plain": [
       "130"
      ]
     },
     "execution_count": 35,
     "metadata": {},
     "output_type": "execute_result"
    }
   ],
   "source": [
    "len(sig_users)"
   ]
  },
  {
   "cell_type": "code",
   "execution_count": 36,
   "metadata": {},
   "outputs": [
    {
     "data": {
      "text/plain": [
       "['kam.keiser@enron.com',\n",
       " 'marketing@nymex.com',\n",
       " 'sally.beck@enron.com',\n",
       " 'maureen.mcvicker@enron.com',\n",
       " 'larry.campbell@enron.com',\n",
       " 'cara.semperger@enron.com',\n",
       " 'd..steffes@enron.com',\n",
       " 'mike.mcconnell@enron.com',\n",
       " 'michelle.cash@enron.com',\n",
       " 'vkaminski@aol.com',\n",
       " 'rod.hayslett@enron.com',\n",
       " 'steven.harris@enron.com',\n",
       " 'david.forster@enron.com',\n",
       " 'darrell.schoolcraft@enron.com',\n",
       " 'benjamin.rogers@enron.com',\n",
       " 'leslie.hansen@enron.com',\n",
       " 'gerald.nemec@enron.com',\n",
       " 'elizabeth.sager@enron.com',\n",
       " 'j..kean@enron.com',\n",
       " 'alan.aronowitz@enron.com',\n",
       " 'susan.bailey@enron.com',\n",
       " 'rick.buy@enron.com',\n",
       " 'robin.rodrigue@enron.com',\n",
       " 'tim.belden@enron.com',\n",
       " 'jdasovic@enron.com',\n",
       " 'david.oxley@enron.com',\n",
       " 'shirley.crenshaw@enron.com',\n",
       " ' All Enron Houston@ENRON',\n",
       " 'm..scott@enron.com',\n",
       " 'alan.comnes@enron.com',\n",
       " 'all.houston@enron.com',\n",
       " 'david.delainey@enron.com',\n",
       " 'michelle.lokay@enron.com',\n",
       " 'stephanie.panus@enron.com',\n",
       " 'mark.taylor@enron.com',\n",
       " 'jae.black@enron.com',\n",
       " 'brent.hendry@enron.com',\n",
       " 'jason.wolfe@enron.com',\n",
       " 'richard.sanders@enron.com',\n",
       " 'susan.scott@enron.com',\n",
       " 'mark.haedicke@enron.com',\n",
       " 'chris.germany@enron.com',\n",
       " 'chris.dorland@enron.com',\n",
       " 'mary.cook@enron.com',\n",
       " 'jonathan.mckay@enron.com',\n",
       " 'lynn.blair@enron.com',\n",
       " 'james.steffes@enron.com',\n",
       " 'w..white@enron.com',\n",
       " 'ginger.dernehl@enron.com',\n",
       " 'matt.smith@enron.com',\n",
       " 'dana.davis@enron.com',\n",
       " 'don.baughman@enron.com',\n",
       " 's..shively@enron.com',\n",
       " 'karen.denne@enron.com',\n",
       " 'soblander@carrfut.com',\n",
       " 'lindy.donoho@enron.com',\n",
       " 'pete.davis@enron.com',\n",
       " 'mike.grigsby@enron.com',\n",
       " 'kimberly.watson@enron.com',\n",
       " 'mark.mcconnell@enron.com',\n",
       " '40enron@enron.com',\n",
       " 'phillip.allen@enron.com',\n",
       " 'no.address@enron.com',\n",
       " 'jeff.skilling@enron.com',\n",
       " 'jeff.skilling@enron.com',\n",
       " 'andy.zipper@enron.com',\n",
       " 'shelley.corman@enron.com',\n",
       " 'kevin.hyatt@enron.com',\n",
       " 'taylor@enron.com',\n",
       " 'enron.announcements@enron.com',\n",
       " 'sara.shackleton@enron.com',\n",
       " 'Houston Outage Report@ENRON',\n",
       " 'suzanne.adams@enron.com',\n",
       " ' All Enron Worldwide@ENRON',\n",
       " 'announcements.enron@enron.com',\n",
       " 'eric.bass@enron.com',\n",
       " 'scott.neal@enron.com',\n",
       " 'outlook.team@enron.com',\n",
       " 'vince.kaminski@enron.com',\n",
       " 'greg.whalley@enron.com',\n",
       " 'mark.whitt@enron.com',\n",
       " 'dutch.quigley@enron.com',\n",
       " 'kim.ward@enron.com',\n",
       " 'marie.heard@enron.com',\n",
       " 'kenneth.lay@enron.com',\n",
       " 'Undisclosed-Recipient',\n",
       " 'dan.hyvl@enron.com',\n",
       " 'janette.elbertson@enron.com',\n",
       " 'tana.jones@enron.com',\n",
       " 'daren.farmer@enron.com',\n",
       " 'tanya.rohauer@enron.com',\n",
       " 'barry.tycholiz@enron.com',\n",
       " 'j.kaminski@enron.com',\n",
       " 'jeffrey.shankman@enron.com',\n",
       " 'joe.parks@enron.com',\n",
       " 'darron.giron@enron.com',\n",
       " 'm..love@enron.com',\n",
       " 'exchangeinfo@nymex.com',\n",
       " 'phillip.love@enron.com',\n",
       " 'twanda.sweet@enron.com',\n",
       " 'ben.jacoby@enron.com',\n",
       " 'b..sanders@enron.com',\n",
       " 'drew.fossum@enron.com',\n",
       " 'm..presto@enron.com',\n",
       " 'jason.williams@enron.com',\n",
       " 'kay.mann@enron.com',\n",
       " 'tracy.geaccone@enron.com',\n",
       " 'errol.mclaughlin@enron.com',\n",
       " 'richard.shapiro@enron.com',\n",
       " 'debra.perlingiere@enron.com',\n",
       " 'steven.kean@enron.com',\n",
       " 'all.worldwide@enron.com',\n",
       " 'stanley.horton@enron.com',\n",
       " 'klay@enron.com',\n",
       " 'jeff.dasovich@enron.com',\n",
       " 'carol.clair@enron.com',\n",
       " 'm..forney@enron.com',\n",
       " 'john.arnold@enron.com',\n",
       " 'arsystem@mailman.enron.com',\n",
       " 'kate.symes@enron.com',\n",
       " 'james.derrick@enron.com',\n",
       " 'matthew.lenhart@enron.com',\n",
       " 'a..shankman@enron.com',\n",
       " 'louise.kitchen@enron.com',\n",
       " 'mark.greenberg@enron.com',\n",
       " 'c..giron@enron.com',\n",
       " 'john.lavorato@enron.com',\n",
       " 'susan.mara@enron.com',\n",
       " 'rosalee.fleming@enron.com',\n",
       " 'paul.kaufman@enron.com']"
      ]
     },
     "execution_count": 36,
     "metadata": {},
     "output_type": "execute_result"
    }
   ],
   "source": [
    "sig_users"
   ]
  },
  {
   "cell_type": "code",
   "execution_count": 37,
   "metadata": {},
   "outputs": [
    {
     "name": "stdout",
     "output_type": "stream",
     "text": [
      "Jeffs ID is  63\n",
      "Jeffs ID is  64\n"
     ]
    }
   ],
   "source": [
    "sig_email_to_id = {}\n",
    "sig_id_to_email ={}\n",
    "count = 0\n",
    "for user in sig_users:\n",
    "    sig_email_to_id[user] = count\n",
    "    sig_id_to_email[count] = user\n",
    "    if user == 'jeff.skilling@enron.com':\n",
    "        print('Jeffs ID is ',count)\n",
    "    count+=1"
   ]
  },
  {
   "cell_type": "code",
   "execution_count": null,
   "metadata": {},
   "outputs": [],
   "source": []
  },
  {
   "cell_type": "code",
   "execution_count": 38,
   "metadata": {},
   "outputs": [],
   "source": [
    "sig_user_matrix = np.zeros((len(sig_users),len(sig_users)))"
   ]
  },
  {
   "cell_type": "code",
   "execution_count": 39,
   "metadata": {},
   "outputs": [],
   "source": [
    "for sender,rec_list,rec_count in zip(network_df['sender'],network_df['rec_list'],network_df['rec_count']):\n",
    "    for rec in rec_list:\n",
    "        if sender in sig_users and rec in sig_users:\n",
    "            sig_user_matrix[sig_email_to_id[sender]][sig_email_to_id[rec]] += 1/rec_count\n",
    "            sig_user_matrix[sig_email_to_id[rec]][sig_email_to_id[sender]] += 1/rec_count"
   ]
  },
  {
   "cell_type": "code",
   "execution_count": 40,
   "metadata": {},
   "outputs": [
    {
     "data": {
      "text/plain": [
       "69076.99248411432"
      ]
     },
     "execution_count": 40,
     "metadata": {},
     "output_type": "execute_result"
    }
   ],
   "source": [
    "sum(sum(sig_user_matrix))"
   ]
  },
  {
   "cell_type": "code",
   "execution_count": 41,
   "metadata": {},
   "outputs": [
    {
     "data": {
      "text/plain": [
       "array([[  4.21271397,   0.        ,   1.35502354, ...,   0.        ,\n",
       "          0.        ,   0.        ],\n",
       "       [  0.        , 532.        ,   0.        , ...,   0.        ,\n",
       "          0.        ,   0.        ],\n",
       "       [  1.35502354,   0.        ,  13.19220881, ...,   0.        ,\n",
       "          1.25178319,   0.        ],\n",
       "       ...,\n",
       "       [  0.        ,   0.        ,   0.        , ...,   6.0287035 ,\n",
       "          0.        ,  43.1847173 ],\n",
       "       [  0.        ,   0.        ,   1.25178319, ...,   0.        ,\n",
       "          0.        ,   0.87777778],\n",
       "       [  0.        ,   0.        ,   0.        , ...,  43.1847173 ,\n",
       "          0.87777778,   1.78626263]])"
      ]
     },
     "execution_count": 41,
     "metadata": {},
     "output_type": "execute_result"
    }
   ],
   "source": [
    "sig_user_matrix"
   ]
  },
  {
   "cell_type": "code",
   "execution_count": 42,
   "metadata": {},
   "outputs": [
    {
     "data": {
      "text/plain": [
       "(130, 130)"
      ]
     },
     "execution_count": 42,
     "metadata": {},
     "output_type": "execute_result"
    }
   ],
   "source": [
    "sig_user_matrix.shape"
   ]
  },
  {
   "cell_type": "code",
   "execution_count": null,
   "metadata": {},
   "outputs": [],
   "source": []
  },
  {
   "cell_type": "code",
   "execution_count": 43,
   "metadata": {},
   "outputs": [],
   "source": [
    "#sig_user_matrix[sig_user_matrix>0]=1"
   ]
  },
  {
   "cell_type": "code",
   "execution_count": 44,
   "metadata": {},
   "outputs": [
    {
     "data": {
      "text/plain": [
       "array([[  4.21271397,   0.        ,   1.35502354, ...,   0.        ,\n",
       "          0.        ,   0.        ],\n",
       "       [  0.        , 532.        ,   0.        , ...,   0.        ,\n",
       "          0.        ,   0.        ],\n",
       "       [  1.35502354,   0.        ,  13.19220881, ...,   0.        ,\n",
       "          1.25178319,   0.        ],\n",
       "       ...,\n",
       "       [  0.        ,   0.        ,   0.        , ...,   6.0287035 ,\n",
       "          0.        ,  43.1847173 ],\n",
       "       [  0.        ,   0.        ,   1.25178319, ...,   0.        ,\n",
       "          0.        ,   0.87777778],\n",
       "       [  0.        ,   0.        ,   0.        , ...,  43.1847173 ,\n",
       "          0.87777778,   1.78626263]])"
      ]
     },
     "execution_count": 44,
     "metadata": {},
     "output_type": "execute_result"
    }
   ],
   "source": [
    "sig_user_matrix"
   ]
  },
  {
   "cell_type": "markdown",
   "metadata": {},
   "source": [
    "# Network Vizualization"
   ]
  },
  {
   "cell_type": "code",
   "execution_count": 45,
   "metadata": {},
   "outputs": [],
   "source": [
    "import plotly.graph_objects as go\n",
    "\n",
    "import networkx as nx"
   ]
  },
  {
   "cell_type": "markdown",
   "metadata": {},
   "source": [
    "## create list of edge values to compute percentiles for pruning"
   ]
  },
  {
   "cell_type": "code",
   "execution_count": 70,
   "metadata": {},
   "outputs": [],
   "source": [
    "\n",
    "edge_values = list(sig_user_matrix)\n",
    "l =[]\n",
    "for edges in edge_values:\n",
    "    l = l + list(edges)\n",
    "edge_values = l"
   ]
  },
  {
   "cell_type": "markdown",
   "metadata": {},
   "source": [
    "## ## Save Jeffery Skilling id to find isolated nodes in the network"
   ]
  },
  {
   "cell_type": "code",
   "execution_count": 71,
   "metadata": {},
   "outputs": [],
   "source": [
    "jeff_sig_id = sig_email_to_id['jeff.skilling@enron.com']"
   ]
  },
  {
   "cell_type": "code",
   "execution_count": 72,
   "metadata": {},
   "outputs": [
    {
     "data": {
      "text/plain": [
       "2"
      ]
     },
     "execution_count": 72,
     "metadata": {},
     "output_type": "execute_result"
    }
   ],
   "source": [
    "#check Jeff ConnectedNess above threshold\n",
    "sum(sig_user_matrix[jeff_sig_id]>8)"
   ]
  },
  {
   "cell_type": "markdown",
   "metadata": {},
   "source": [
    "# Create and Prune edges of Network Graph to vizualize"
   ]
  },
  {
   "cell_type": "code",
   "execution_count": 102,
   "metadata": {},
   "outputs": [],
   "source": [
    "G = nx.Graph()"
   ]
  },
  {
   "cell_type": "code",
   "execution_count": 103,
   "metadata": {},
   "outputs": [],
   "source": [
    "G.add_nodes_from(range(len(sig_user_matrix)))"
   ]
  },
  {
   "cell_type": "code",
   "execution_count": 104,
   "metadata": {},
   "outputs": [
    {
     "name": "stdout",
     "output_type": "stream",
     "text": [
      "jeff_connection\n",
      "jeff_connection\n",
      "jeff_connection\n",
      "jeff_connection\n",
      "jeff_connection\n",
      "jeff_connection\n",
      "jeff_connection\n",
      "jeff_connection\n",
      "jeff_connection\n"
     ]
    }
   ],
   "source": [
    "edge_thresh = np.percentile(edge_values,90)\n",
    "for i in range(len(sig_user_matrix)):\n",
    "    for j in range(len(sig_user_matrix)):\n",
    "        #if i ==jeff_sig_id:\n",
    "                #print('jeff_potential')\n",
    "        if sig_user_matrix[i][j] > edge_thresh:\n",
    "            if i ==jeff_sig_id:\n",
    "                print('jeff_connection')\n",
    "            G.add_edge(i,j)"
   ]
  },
  {
   "cell_type": "code",
   "execution_count": 105,
   "metadata": {},
   "outputs": [
    {
     "data": {
      "text/plain": [
       "9.492460317460315"
      ]
     },
     "execution_count": 105,
     "metadata": {},
     "output_type": "execute_result"
    }
   ],
   "source": [
    "np.percentile(sig_user_matrix,95)"
   ]
  },
  {
   "cell_type": "code",
   "execution_count": 106,
   "metadata": {},
   "outputs": [],
   "source": [
    "### Check Jeff Neighbors"
   ]
  },
  {
   "cell_type": "code",
   "execution_count": 107,
   "metadata": {},
   "outputs": [
    {
     "data": {
      "text/plain": [
       "64"
      ]
     },
     "execution_count": 107,
     "metadata": {},
     "output_type": "execute_result"
    }
   ],
   "source": [
    "jeff_sig_id"
   ]
  },
  {
   "cell_type": "markdown",
   "metadata": {},
   "source": [
    "## Remove Nodes that do not connect signifigantly to Jeffery\n"
   ]
  },
  {
   "cell_type": "code",
   "execution_count": 108,
   "metadata": {},
   "outputs": [
    {
     "data": {
      "text/plain": [
       "125"
      ]
     },
     "execution_count": 108,
     "metadata": {},
     "output_type": "execute_result"
    }
   ],
   "source": [
    "jeff_dist_dict = list((nx.all_pairs_shortest_path_length(G)))[jeff_sig_id][1]\n",
    "len(jeff_dist_dict)"
   ]
  },
  {
   "cell_type": "code",
   "execution_count": 109,
   "metadata": {},
   "outputs": [
    {
     "data": {
      "text/plain": [
       "{64: 0,\n",
       " 2: 1,\n",
       " 7: 1,\n",
       " 31: 1,\n",
       " 53: 1,\n",
       " 93: 1,\n",
       " 110: 1,\n",
       " 112: 1,\n",
       " 114: 1,\n",
       " 122: 1,\n",
       " 8: 2,\n",
       " 10: 2,\n",
       " 12: 2,\n",
       " 18: 2,\n",
       " 21: 2,\n",
       " 23: 2,\n",
       " 25: 2,\n",
       " 47: 2,\n",
       " 62: 2,\n",
       " 65: 2,\n",
       " 78: 2,\n",
       " 79: 2,\n",
       " 84: 2,\n",
       " 118: 2,\n",
       " 123: 2,\n",
       " 126: 2,\n",
       " 19: 2,\n",
       " 59: 2,\n",
       " 128: 2,\n",
       " 3: 2,\n",
       " 14: 2,\n",
       " 38: 2,\n",
       " 40: 2,\n",
       " 46: 2,\n",
       " 61: 2,\n",
       " 76: 2,\n",
       " 91: 2,\n",
       " 99: 2,\n",
       " 100: 2,\n",
       " 108: 2,\n",
       " 6: 2,\n",
       " 29: 2,\n",
       " 101: 2,\n",
       " 120: 2,\n",
       " 127: 2,\n",
       " 129: 2,\n",
       " 57: 2,\n",
       " 117: 2,\n",
       " 48: 2,\n",
       " 66: 2,\n",
       " 102: 2,\n",
       " 106: 2,\n",
       " 11: 2,\n",
       " 24: 2,\n",
       " 32: 2,\n",
       " 39: 2,\n",
       " 90: 2,\n",
       " 92: 2,\n",
       " 15: 3,\n",
       " 17: 3,\n",
       " 34: 3,\n",
       " 68: 3,\n",
       " 124: 3,\n",
       " 55: 3,\n",
       " 58: 3,\n",
       " 60: 3,\n",
       " 35: 3,\n",
       " 88: 3,\n",
       " 103: 3,\n",
       " 115: 3,\n",
       " 5: 3,\n",
       " 52: 3,\n",
       " 119: 3,\n",
       " 0: 3,\n",
       " 50: 3,\n",
       " 4: 3,\n",
       " 16: 3,\n",
       " 26: 3,\n",
       " 27: 3,\n",
       " 28: 3,\n",
       " 33: 3,\n",
       " 36: 3,\n",
       " 41: 3,\n",
       " 42: 3,\n",
       " 44: 3,\n",
       " 45: 3,\n",
       " 49: 3,\n",
       " 51: 3,\n",
       " 67: 3,\n",
       " 70: 3,\n",
       " 71: 3,\n",
       " 73: 3,\n",
       " 74: 3,\n",
       " 75: 3,\n",
       " 77: 3,\n",
       " 81: 3,\n",
       " 82: 3,\n",
       " 83: 3,\n",
       " 87: 3,\n",
       " 96: 3,\n",
       " 104: 3,\n",
       " 121: 3,\n",
       " 107: 3,\n",
       " 9: 3,\n",
       " 69: 3,\n",
       " 37: 3,\n",
       " 43: 3,\n",
       " 20: 3,\n",
       " 105: 3,\n",
       " 109: 3,\n",
       " 80: 3,\n",
       " 86: 3,\n",
       " 54: 3,\n",
       " 13: 3,\n",
       " 22: 3,\n",
       " 72: 4,\n",
       " 97: 4,\n",
       " 116: 4,\n",
       " 125: 4,\n",
       " 56: 4,\n",
       " 95: 4,\n",
       " 98: 4,\n",
       " 94: 4,\n",
       " 30: 4,\n",
       " 111: 4}"
      ]
     },
     "execution_count": 109,
     "metadata": {},
     "output_type": "execute_result"
    }
   ],
   "source": [
    "jeff_dist_dict"
   ]
  },
  {
   "cell_type": "code",
   "execution_count": 110,
   "metadata": {},
   "outputs": [
    {
     "data": {
      "text/plain": [
       "False"
      ]
     },
     "execution_count": 110,
     "metadata": {},
     "output_type": "execute_result"
    }
   ],
   "source": [
    "for i in range(len(sig_ids)):\n",
    "    if i not in jeff_dist_dict:\n",
    "        G.remove_node(i)\n",
    "        \n",
    "#Jeff Check\n",
    "email_to_id['jeff.skilling@enron.com'] in list(G.nodes())"
   ]
  },
  {
   "cell_type": "code",
   "execution_count": 95,
   "metadata": {},
   "outputs": [
    {
     "data": {
      "text/plain": [
       "'jeff.skilling@enron.com'"
      ]
     },
     "execution_count": 95,
     "metadata": {},
     "output_type": "execute_result"
    }
   ],
   "source": [
    "sig_id_to_email[jeff_sig_id]"
   ]
  },
  {
   "cell_type": "code",
   "execution_count": 96,
   "metadata": {},
   "outputs": [],
   "source": [
    "#Removing node disconected Nodes\n",
    "#remove = [node for node,degree in dict(G.degree()).items() if degree < 2]\n",
    "#G.remove_nodes_from(remove)"
   ]
  },
  {
   "cell_type": "code",
   "execution_count": 97,
   "metadata": {},
   "outputs": [],
   "source": [
    "G.remove_nodes_from(list(nx.isolates(G)))"
   ]
  },
  {
   "cell_type": "markdown",
   "metadata": {},
   "source": [
    "# attempt to animate Spring Graph"
   ]
  },
  {
   "cell_type": "code",
   "execution_count": null,
   "metadata": {},
   "outputs": [],
   "source": []
  },
  {
   "cell_type": "code",
   "execution_count": 98,
   "metadata": {},
   "outputs": [],
   "source": [
    "from IPython.display import HTML\n",
    "from matplotlib import pyplot as plt\n",
    "from celluloid import Camera"
   ]
  },
  {
   "cell_type": "code",
   "execution_count": 99,
   "metadata": {},
   "outputs": [
    {
     "name": "stderr",
     "output_type": "stream",
     "text": [
      "//anaconda3/lib/python3.7/site-packages/networkx/drawing/nx_pylab.py:579: MatplotlibDeprecationWarning:\n",
      "\n",
      "\n",
      "The iterable function was deprecated in Matplotlib 3.1 and will be removed in 3.3. Use np.iterable instead.\n",
      "\n"
     ]
    },
    {
     "data": {
      "image/png": "[encoded data removed]",
      "text/plain": [
       "<Figure size 1080x1080 with 1 Axes>"
      ]
     },
     "metadata": {},
     "output_type": "display_data"
    }
   ],
   "source": [
    "fig = plt.figure(figsize=(15,15))\n",
    "camera = Camera(fig)\n",
    "for i in range(5):\n",
    "    pos = nx.spring_layout(G,iterations=i)\n",
    "    \n",
    "    nx.draw(G,pos,node_size=30,k=.2)\n",
    "    plt.title(i)\n",
    "    \n",
    "    camera.snap()\n",
    "animation = camera.animate(interval=500)\n",
    "animation.save('celluloid_minimal.gif', writer = 'imagemagick')\n",
    "#HTML(animation.to_jshtml())"
   ]
  },
  {
   "cell_type": "markdown",
   "metadata": {},
   "source": [
    "# Animate Shells Layout"
   ]
  },
  {
   "cell_type": "code",
   "execution_count": 100,
   "metadata": {},
   "outputs": [
    {
     "data": {
      "text/plain": [
       "64"
      ]
     },
     "execution_count": 100,
     "metadata": {},
     "output_type": "execute_result"
    }
   ],
   "source": [
    "jeff_sig_id"
   ]
  },
  {
   "cell_type": "code",
   "execution_count": 64,
   "metadata": {},
   "outputs": [],
   "source": [
    "jeff_groups = []\n",
    "for i in range(10):\n",
    "    i_range_list = []\n",
    "    for key,value in jeff_dist_dict.items():\n",
    "        if jeff_dist_dict[key] ==i:\n",
    "            i_range_list.append(key)\n",
    "    jeff_groups.append(i_range_list)\n",
    "            "
   ]
  },
  {
   "cell_type": "code",
   "execution_count": 65,
   "metadata": {},
   "outputs": [
    {
     "data": {
      "text/plain": [
       "1"
      ]
     },
     "execution_count": 65,
     "metadata": {},
     "output_type": "execute_result"
    }
   ],
   "source": [
    "while [] in jeff_groups:\n",
    "    jeff_groups.remove([])\n",
    "len(jeff_dist_dict)"
   ]
  },
  {
   "cell_type": "code",
   "execution_count": 66,
   "metadata": {},
   "outputs": [],
   "source": [
    "color_palette = ['r','g','b','c','m','y','k','k']\n",
    "size_palette = [1200,900,400,200,100,100,100,100,100,100]\n",
    "jeff_colors = []\n",
    "jeff_size = []\n",
    "\n",
    "for node_num in list(G.nodes()):\n",
    "    jeff_colors.append(color_palette[jeff_dist_dict[node_num]])\n",
    "    jeff_size.append(float(size_palette[jeff_dist_dict[node_num]]))"
   ]
  },
  {
   "cell_type": "code",
   "execution_count": 67,
   "metadata": {},
   "outputs": [],
   "source": [
    "def draw_shells():\n",
    "    \n",
    "    pos = nx.shell_layout(G,nlist=jeff_groups)\n",
    "    # larger figure size\n",
    "    plt.figure(3,figsize=(10,10)) \n",
    "    nx.draw(G,pos,node_size=60)\n",
    "    plt.title('Shell Network Based on Jeff Proximity')\n"
   ]
  },
  {
   "cell_type": "code",
   "execution_count": null,
   "metadata": {},
   "outputs": [],
   "source": []
  },
  {
   "cell_type": "code",
   "execution_count": 68,
   "metadata": {},
   "outputs": [
    {
     "data": {
      "text/plain": [
       "<Figure size 1080x1080 with 0 Axes>"
      ]
     },
     "metadata": {},
     "output_type": "display_data"
    },
    {
     "data": {
      "image/png": "[encoded data removed]",
      "text/plain": [
       "<Figure size 720x720 with 1 Axes>"
      ]
     },
     "metadata": {},
     "output_type": "display_data"
    }
   ],
   "source": [
    "fig = plt.figure(figsize=(15,15))\n",
    "camera = Camera(fig)\n",
    "for i in range(5):\n",
    "    pos = nx.spring_layout(G,iterations=i)\n",
    "    \n",
    "    pos = nx.shell_layout(G)\n",
    "    # larger figure size\n",
    "    plt.figure(3,figsize=(10,10)) \n",
    "    nx.draw_networkx(G,pos,node_size=300)\n",
    "    plt.title('Shell Network Based on Jeff Proximity')\n",
    "    plt.title(i)\n",
    "    \n",
    "    camera.snap()\n",
    "animation = camera.animate(interval=500)\n",
    "animation.save('celluloid_minimal.gif', writer = 'imagemagick')"
   ]
  },
  {
   "cell_type": "code",
   "execution_count": 69,
   "metadata": {},
   "outputs": [
    {
     "ename": "ValueError",
     "evalue": "max() arg is an empty sequence",
     "output_type": "error",
     "traceback": [
      "\u001b[0;31m---------------------------------------------------------------------------\u001b[0m",
      "\u001b[0;31mValueError\u001b[0m                                Traceback (most recent call last)",
      "\u001b[0;32m<ipython-input-69-62f08716b872>\u001b[0m in \u001b[0;36m<module>\u001b[0;34m\u001b[0m\n\u001b[1;32m      4\u001b[0m \u001b[0;34m\u001b[0m\u001b[0m\n\u001b[1;32m      5\u001b[0m     \u001b[0mshell_pos\u001b[0m \u001b[0;34m=\u001b[0m \u001b[0mnx\u001b[0m\u001b[0;34m.\u001b[0m\u001b[0mshell_layout\u001b[0m\u001b[0;34m(\u001b[0m\u001b[0mG\u001b[0m\u001b[0;34m,\u001b[0m\u001b[0mnlist\u001b[0m\u001b[0;34m=\u001b[0m\u001b[0mjeff_groups\u001b[0m\u001b[0;34m)\u001b[0m\u001b[0;34m\u001b[0m\u001b[0;34m\u001b[0m\u001b[0m\n\u001b[0;32m----> 6\u001b[0;31m     \u001b[0mpos\u001b[0m \u001b[0;34m=\u001b[0m \u001b[0mnx\u001b[0m\u001b[0;34m.\u001b[0m\u001b[0mspring_layout\u001b[0m\u001b[0;34m(\u001b[0m\u001b[0mG\u001b[0m\u001b[0;34m,\u001b[0m\u001b[0miterations\u001b[0m\u001b[0;34m=\u001b[0m\u001b[0mi\u001b[0m\u001b[0;34m,\u001b[0m\u001b[0mpos\u001b[0m\u001b[0;34m=\u001b[0m\u001b[0mshell_pos\u001b[0m\u001b[0;34m,\u001b[0m\u001b[0mk\u001b[0m\u001b[0;34m=\u001b[0m\u001b[0;36m.1\u001b[0m\u001b[0;34m)\u001b[0m\u001b[0;34m\u001b[0m\u001b[0;34m\u001b[0m\u001b[0m\n\u001b[0m\u001b[1;32m      7\u001b[0m         \u001b[0;31m# larger figure size\u001b[0m\u001b[0;34m\u001b[0m\u001b[0;34m\u001b[0m\u001b[0;34m\u001b[0m\u001b[0m\n\u001b[1;32m      8\u001b[0m     \u001b[0mnx\u001b[0m\u001b[0;34m.\u001b[0m\u001b[0mdraw_networkx_nodes\u001b[0m\u001b[0;34m(\u001b[0m\u001b[0mG\u001b[0m\u001b[0;34m,\u001b[0m\u001b[0mpos\u001b[0m\u001b[0;34m,\u001b[0m\u001b[0mnode_size\u001b[0m\u001b[0;34m=\u001b[0m\u001b[0mjeff_size\u001b[0m\u001b[0;34m,\u001b[0m\u001b[0mnode_color\u001b[0m\u001b[0;34m=\u001b[0m\u001b[0mjeff_colors_plotly\u001b[0m\u001b[0;34m,\u001b[0m\u001b[0;34m)\u001b[0m\u001b[0;34m\u001b[0m\u001b[0;34m\u001b[0m\u001b[0m\n",
      "\u001b[0;32m<//anaconda3/lib/python3.7/site-packages/decorator.py:decorator-gen-791>\u001b[0m in \u001b[0;36mfruchterman_reingold_layout\u001b[0;34m(G, k, pos, fixed, iterations, threshold, weight, scale, center, dim, seed)\u001b[0m\n",
      "\u001b[0;32m//anaconda3/lib/python3.7/site-packages/networkx/utils/decorators.py\u001b[0m in \u001b[0;36m_random_state\u001b[0;34m(func, *args, **kwargs)\u001b[0m\n\u001b[1;32m    403\u001b[0m         \u001b[0mnew_args\u001b[0m \u001b[0;34m=\u001b[0m \u001b[0mlist\u001b[0m\u001b[0;34m(\u001b[0m\u001b[0margs\u001b[0m\u001b[0;34m)\u001b[0m\u001b[0;34m\u001b[0m\u001b[0;34m\u001b[0m\u001b[0m\n\u001b[1;32m    404\u001b[0m         \u001b[0mnew_args\u001b[0m\u001b[0;34m[\u001b[0m\u001b[0mrandom_state_index\u001b[0m\u001b[0;34m]\u001b[0m \u001b[0;34m=\u001b[0m \u001b[0mrandom_state\u001b[0m\u001b[0;34m\u001b[0m\u001b[0;34m\u001b[0m\u001b[0m\n\u001b[0;32m--> 405\u001b[0;31m         \u001b[0;32mreturn\u001b[0m \u001b[0mfunc\u001b[0m\u001b[0;34m(\u001b[0m\u001b[0;34m*\u001b[0m\u001b[0mnew_args\u001b[0m\u001b[0;34m,\u001b[0m \u001b[0;34m**\u001b[0m\u001b[0mkwargs\u001b[0m\u001b[0;34m)\u001b[0m\u001b[0;34m\u001b[0m\u001b[0;34m\u001b[0m\u001b[0m\n\u001b[0m\u001b[1;32m    406\u001b[0m     \u001b[0;32mreturn\u001b[0m \u001b[0m_random_state\u001b[0m\u001b[0;34m\u001b[0m\u001b[0;34m\u001b[0m\u001b[0m\n\u001b[1;32m    407\u001b[0m \u001b[0;34m\u001b[0m\u001b[0m\n",
      "\u001b[0;32m//anaconda3/lib/python3.7/site-packages/networkx/drawing/layout.py\u001b[0m in \u001b[0;36mfruchterman_reingold_layout\u001b[0;34m(G, k, pos, fixed, iterations, threshold, weight, scale, center, dim, seed)\u001b[0m\n\u001b[1;32m    431\u001b[0m     \u001b[0;32mif\u001b[0m \u001b[0mpos\u001b[0m \u001b[0;32mis\u001b[0m \u001b[0;32mnot\u001b[0m \u001b[0;32mNone\u001b[0m\u001b[0;34m:\u001b[0m\u001b[0;34m\u001b[0m\u001b[0;34m\u001b[0m\u001b[0m\n\u001b[1;32m    432\u001b[0m         \u001b[0;31m# Determine size of existing domain to adjust initial positions\u001b[0m\u001b[0;34m\u001b[0m\u001b[0;34m\u001b[0m\u001b[0;34m\u001b[0m\u001b[0m\n\u001b[0;32m--> 433\u001b[0;31m         \u001b[0mdom_size\u001b[0m \u001b[0;34m=\u001b[0m \u001b[0mmax\u001b[0m\u001b[0;34m(\u001b[0m\u001b[0mcoord\u001b[0m \u001b[0;32mfor\u001b[0m \u001b[0mpos_tup\u001b[0m \u001b[0;32min\u001b[0m \u001b[0mpos\u001b[0m\u001b[0;34m.\u001b[0m\u001b[0mvalues\u001b[0m\u001b[0;34m(\u001b[0m\u001b[0;34m)\u001b[0m \u001b[0;32mfor\u001b[0m \u001b[0mcoord\u001b[0m \u001b[0;32min\u001b[0m \u001b[0mpos_tup\u001b[0m\u001b[0;34m)\u001b[0m\u001b[0;34m\u001b[0m\u001b[0;34m\u001b[0m\u001b[0m\n\u001b[0m\u001b[1;32m    434\u001b[0m         \u001b[0;32mif\u001b[0m \u001b[0mdom_size\u001b[0m \u001b[0;34m==\u001b[0m \u001b[0;36m0\u001b[0m\u001b[0;34m:\u001b[0m\u001b[0;34m\u001b[0m\u001b[0;34m\u001b[0m\u001b[0m\n\u001b[1;32m    435\u001b[0m             \u001b[0mdom_size\u001b[0m \u001b[0;34m=\u001b[0m \u001b[0;36m1\u001b[0m\u001b[0;34m\u001b[0m\u001b[0;34m\u001b[0m\u001b[0m\n",
      "\u001b[0;31mValueError\u001b[0m: max() arg is an empty sequence"
     ]
    },
    {
     "data": {
      "text/plain": [
       "<Figure size 1080x1080 with 0 Axes>"
      ]
     },
     "metadata": {},
     "output_type": "display_data"
    }
   ],
   "source": [
    "fig = plt.figure(figsize=(15,15))\n",
    "camera = Camera(fig)\n",
    "for i in range(50):\n",
    "\n",
    "    shell_pos = nx.shell_layout(G,nlist=jeff_groups)\n",
    "    pos = nx.spring_layout(G,iterations=i,pos=shell_pos,k=.1)\n",
    "        # larger figure size\n",
    "    nx.draw_networkx_nodes(G,pos,node_size=jeff_size,node_color=jeff_colors_plotly,)\n",
    "    plt.title('Shell Network Based on Jeff Proximity')\n",
    "    camera.snap()\n",
    "    \n",
    "animation = camera.animate(interval=200)\n",
    "animation.save('Spring_Proximity_Jeff.gif', writer = 'imagemagick')\n",
    "HTML(animation.to_jshtml())"
   ]
  },
  {
   "cell_type": "markdown",
   "metadata": {},
   "source": [
    "## Attempting Plotly Integration"
   ]
  },
  {
   "cell_type": "code",
   "execution_count": null,
   "metadata": {},
   "outputs": [],
   "source": [
    "plotly_color = ['red','orange','yellow','purple','green','black','black']\n",
    "\n",
    "\n",
    "jeff_colors_plotly = []\n",
    "\n",
    "\n",
    "for node_num in list(G.nodes()):\n",
    "    jeff_colors_plotly.append(plotly_color[jeff_dist_dict[node_num]])"
   ]
  },
  {
   "cell_type": "code",
   "execution_count": null,
   "metadata": {},
   "outputs": [],
   "source": [
    "pos = nx.random_layout(G)\n",
    "edge_x = []\n",
    "edge_y = []\n",
    "for edge in G.edges():\n",
    "    x0, y0 = pos[edge[0]]\n",
    "    x1, y1 = pos[edge[1]]\n",
    "    edge_x.append(x0)\n",
    "    edge_x.append(x1)\n",
    "    edge_x.append(None)\n",
    "    edge_y.append(y0)\n",
    "    edge_y.append(y1)\n",
    "    edge_y.append(None)\n"
   ]
  },
  {
   "cell_type": "code",
   "execution_count": null,
   "metadata": {},
   "outputs": [],
   "source": [
    "edge_trace = go.Scatter(\n",
    "    x=edge_x, y=edge_y,\n",
    "    line=dict(width=0.5, color='#888'),\n",
    "    hoverinfo='none',\n",
    "    mode='lines')"
   ]
  },
  {
   "cell_type": "code",
   "execution_count": null,
   "metadata": {},
   "outputs": [],
   "source": [
    "node_x = []\n",
    "node_y = []\n",
    "for node in G.nodes():\n",
    "    x, y = pos[node]\n",
    "    node_x.append(x)\n",
    "    node_y.append(y)"
   ]
  },
  {
   "cell_type": "code",
   "execution_count": null,
   "metadata": {},
   "outputs": [],
   "source": [
    "node_trace = go.Scatter(\n",
    "    x=node_x, y=node_y,\n",
    "    mode='markers',\n",
    "    hoverinfo='text',\n",
    "    marker=dict(\n",
    "        showscale=True,\n",
    "        # colorscale options\n",
    "        #'Greys' | 'YlGnBu' | 'Greens' | 'YlOrRd' | 'Bluered' | 'RdBu' |\n",
    "        #'Reds' | 'Blues' | 'Picnic' | 'Rainbow' | 'Portland' | 'Jet' |\n",
    "        #'Hot' | 'Blackbody' | 'Earth' | 'Electric' | 'Viridis' |\n",
    "        colorscale='YlGnBu',\n",
    "        reversescale=True,\n",
    "        color=[],\n",
    "        size=10,\n",
    "        colorbar=dict(\n",
    "            thickness=15,\n",
    "            title='Node Connections',\n",
    "            xanchor='left',\n",
    "            titleside='right'\n",
    "        ),\n",
    "        line_width=2))"
   ]
  },
  {
   "cell_type": "code",
   "execution_count": null,
   "metadata": {},
   "outputs": [],
   "source": [
    "node_adjacencies = []\n",
    "node_text = []\n",
    "for node, adjacencies in enumerate(G.adjacency()):\n",
    "    node_adjacencies.append(len(adjacencies[1]))\n",
    "\n",
    "\n",
    "for node in G.nodes():\n",
    "    node_text.append(sig_id_to_email[node])\n",
    "\n",
    "node_trace.marker.color = jeff_colors_plotly\n",
    "node_trace.text = node_text"
   ]
  },
  {
   "cell_type": "code",
   "execution_count": null,
   "metadata": {},
   "outputs": [],
   "source": [
    "fig = go.Figure(data=[edge_trace, node_trace],\n",
    "             layout=go.Layout(\n",
    "                title='<br>Network graph made with Python',\n",
    "                titlefont_size=16,\n",
    "                showlegend=False,\n",
    "                hovermode='closest',\n",
    "                margin=dict(b=20,l=5,r=5,t=40),\n",
    "                annotations=[ dict(\n",
    "                    text=\"Python code: <a href='https://plot.ly/ipython-notebooks/network-graphs/'> https://plot.ly/ipython-notebooks/network-graphs/</a>\",\n",
    "                    showarrow=False,\n",
    "                    xref=\"paper\", yref=\"paper\",\n",
    "                    x=0.005, y=-0.002 ) ],\n",
    "                xaxis=dict(showgrid=False, zeroline=False, showticklabels=False),\n",
    "                yaxis=dict(showgrid=False, zeroline=False, showticklabels=False))\n",
    "                )\n",
    "\n",
    "fig.show()"
   ]
  },
  {
   "cell_type": "code",
   "execution_count": null,
   "metadata": {},
   "outputs": [],
   "source": [
    "pos[jeff_sig_id]"
   ]
  },
  {
   "cell_type": "code",
   "execution_count": null,
   "metadata": {},
   "outputs": [],
   "source": []
  },
  {
   "cell_type": "code",
   "execution_count": null,
   "metadata": {},
   "outputs": [],
   "source": []
  },
  {
   "cell_type": "code",
   "execution_count": null,
   "metadata": {},
   "outputs": [],
   "source": []
  },
  {
   "cell_type": "code",
   "execution_count": null,
   "metadata": {},
   "outputs": [],
   "source": []
  },
  {
   "cell_type": "code",
   "execution_count": null,
   "metadata": {},
   "outputs": [],
   "source": []
  }
 ],
 "metadata": {
  "kernelspec": {
   "display_name": "Python 3",
   "language": "python",
   "name": "python3"
  },
  "language_info": {
   "codemirror_mode": {
    "name": "ipython",
    "version": 3
   },
   "file_extension": ".py",
   "mimetype": "text/x-python",
   "name": "python",
   "nbconvert_exporter": "python",
   "pygments_lexer": "ipython3",
   "version": "3.7.3"
  }
 },
 "nbformat": 4,
 "nbformat_minor": 2
}
